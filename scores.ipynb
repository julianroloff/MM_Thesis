{
 "cells": [
  {
   "cell_type": "code",
   "execution_count": 1,
   "metadata": {},
   "outputs": [],
   "source": [
    "import pandas as pd\n",
    "import plotly.express as px"
   ]
  },
  {
   "cell_type": "markdown",
   "metadata": {},
   "source": [
    "# Catena-X Scores"
   ]
  },
  {
   "cell_type": "code",
   "execution_count": 18,
   "metadata": {},
   "outputs": [],
   "source": [
    "# Business Model\n",
    "\n",
    "cx_bm_score_value_proposition = [4,3,4,4]\n",
    "cx_bm_score_multi_sidedness = [4,4,4,3]\n",
    "cx_bm_score_collaborative_bm = [4,4,3]\n",
    "cx_bm_score_governance_authority = [5,4,3]\n",
    "cx_bm_score_dynamic_capabilities = [3,3,4]\n",
    "cx_bm_score_revenue_cost = [3,2,1]\n",
    "\n",
    "cx_score_bm = sum([ sum(cx_bm_score_value_proposition)/4, \n",
    "                                sum(cx_bm_score_multi_sidedness)/4,\n",
    "                                sum(cx_bm_score_collaborative_bm)/3,\n",
    "                                sum(cx_bm_score_governance_authority)/3,\n",
    "                                sum(cx_bm_score_dynamic_capabilities)/3,\n",
    "                                sum(cx_bm_score_revenue_cost)/3\n",
    "                            ])/6\n",
    "\n",
    "\n",
    "\n",
    "\n",
    "# Use Case Development\n",
    "\n",
    "cx_ucd_score_use_case_identification = [4,4,3,4]\n",
    "cx_ucd_score_use_case_scenario_refinement = [4,4,4,4]\n",
    "cx_ucd_score_use_case_implementation = [4,4,4,3]\n",
    "cx_ucd_score_continuous_improvement = [3,4,4,2]\n",
    "cx_ucd_score_use_case_orchestration = [3,3,3,3]\n",
    "\n",
    "cx_score_ucd = sum([ sum(cx_ucd_score_use_case_scenario_refinement)/4, \n",
    "                                sum(cx_ucd_score_use_case_scenario_refinement)/4,\n",
    "                                sum(cx_ucd_score_use_case_implementation)/4,\n",
    "                                sum(cx_ucd_score_continuous_improvement)/4,\n",
    "                                sum(cx_ucd_score_use_case_orchestration)/4\n",
    "                            ])/5\n",
    "\n",
    "\n",
    "\n",
    "# Data Space Offering\n",
    "\n",
    "cx_dso_score_data_products = [4,3,2,4,4]\n",
    "cx_dso_score_services = [4,4,4]\n",
    "cx_dso_score_offering_strategy = [4,3,4,4]\n",
    "cx_dso_score_governance_rules = [4,4,4,4]\n",
    "cx_dso_score_participant_support = [4,4,3,4]\n",
    "\n",
    "cx_score_dso = sum([ sum(cx_dso_score_data_products)/5, \n",
    "                                sum(cx_dso_score_services)/3,\n",
    "                                sum(cx_dso_score_offering_strategy)/4,\n",
    "                                sum(cx_dso_score_governance_rules)/4,\n",
    "                                sum(cx_dso_score_participant_support)/4\n",
    "                            ])/5\n",
    "\n",
    "\n",
    "\n",
    "# Intermediaries and Operators\n",
    "\n",
    "cx_io_score_service_provision = [4,3,3]\n",
    "cx_io_score_governance_framework_integration = [4,4,3]\n",
    "cx_io_score_business_revenue = [2,3]\n",
    "cx_io_score_interoperability_collaboration = [4,3,3]\n",
    "cx_io_score_risk_management = [3,2]\n",
    "cx_io_score_regulatory_compliance = [4,4]\n",
    "cx_io_score_service_provider_responsibilities = [4,3,1,2,4]\n",
    "\n",
    "cx_score_io = sum([ sum(cx_io_score_service_provision)/3, \n",
    "                                sum(cx_io_score_governance_framework_integration)/3,\n",
    "                                sum(cx_io_score_business_revenue)/2,\n",
    "                                sum(cx_io_score_interoperability_collaboration)/3,\n",
    "                                sum(cx_io_score_risk_management)/2,\n",
    "                                sum(cx_io_score_regulatory_compliance)/2,\n",
    "                                sum(cx_io_score_service_provider_responsibilities)/5\n",
    "                            ])/7\n",
    "\n",
    "\n",
    "\n",
    "# Organizational Form and Governance Authority\n",
    "\n",
    "cx_ofga_score_organizational_form_decision = [4,5,3]\n",
    "cx_ofga_score_governance_authority = [5,4,5,5,2,4,3]\n",
    "cx_ofga_score_governance_framework_development = [5,5,5,5,5,4,5,5,4,3]\n",
    "\n",
    "cx_score_ofga = sum([\n",
    "                        sum(cx_ofga_score_organizational_form_decision)/3,\n",
    "                        sum(cx_ofga_score_governance_authority)/7,\n",
    "                        sum(cx_ofga_score_governance_framework_development)/10\n",
    "                    ])/3\n",
    "\n",
    "\n",
    "# Participation Management\n",
    "\n",
    "cx_pm_score_roles_responsibilities = [5,3]\n",
    "cx_pm_score_onboarding_process = [4,3,4]\n",
    "cx_pm_score_offboarding_process = [1,1,1]\n",
    "cx_pm_score_compliance_alignment = [3,3,3]\n",
    "cx_pm_score_transaction_facilitation = [4,4]\n",
    "cx_pm_score_stakeholder_engagement = [3,2]\n",
    "\n",
    "cx_score_pm = sum([ sum(cx_pm_score_roles_responsibilities)/2, \n",
    "                                sum(cx_pm_score_onboarding_process)/3,\n",
    "                                sum(cx_pm_score_offboarding_process)/3,\n",
    "                                sum(cx_pm_score_compliance_alignment)/3,\n",
    "                                sum(cx_pm_score_transaction_facilitation)/3,\n",
    "                                sum(cx_pm_score_stakeholder_engagement)/2\n",
    "                            ])/6\n",
    "\n",
    "\n",
    "# Regulatory Compliance\n",
    "\n",
    "cx_rc_score_triggers = [3,4]\n",
    "cx_rc_score_data_space_requirements = [5,4,4]\n",
    "cx_rc_score_additional = [4,4,4]\n",
    "cx_rc_score_tools = [3,2,2]\n",
    "cx_rc_score_flowcharts = [2]\n",
    "cx_rc_score_governance_authority = [5,3,4]\n",
    "cx_rc_score_participant_rights = [4,4]\n",
    "\n",
    "cx_score_rc = sum([ sum(cx_rc_score_triggers)/2, \n",
    "                                sum(cx_rc_score_data_space_requirements)/3,\n",
    "                                sum(cx_rc_score_additional)/3,\n",
    "                                sum(cx_rc_score_tools)/3,\n",
    "                                sum(cx_rc_score_flowcharts)/1,\n",
    "                                sum(cx_rc_score_governance_authority)/3,\n",
    "                                sum(cx_rc_score_participant_rights)/2\n",
    "                            ])/7\n",
    "\n",
    "\n",
    "# Contractual Framework\n",
    "\n",
    "cx_cf_score_institutional_agreements = [4,3,5,5]\n",
    "cx_cf_score_data_sharing_agreements = [4,4,4,3]\n",
    "cx_cf_score_service_agreements = [4,5,5,4]\n",
    "cx_cf_score_legal_interoperability = [3,3,4]\n",
    "cx_cf_score_regulatory_compliance = [3,5,4,3]\n",
    "\n",
    "cx_score_cf = sum([ sum(cx_cf_score_institutional_agreements)/4, \n",
    "                                sum(cx_cf_score_data_sharing_agreements)/4,\n",
    "                                sum(cx_cf_score_service_agreements)/4,\n",
    "                                sum(cx_cf_score_legal_interoperability)/3,\n",
    "                                sum(cx_cf_score_regulatory_compliance)/4\n",
    "                            ])/5\n",
    "\n",
    "cx_scores = [cx_score_bm, cx_score_ucd, cx_score_dso, cx_score_io, cx_score_ofga, cx_score_pm, cx_score_rc, cx_score_cf]\n"
   ]
  },
  {
   "cell_type": "code",
   "execution_count": 19,
   "metadata": {},
   "outputs": [
    {
     "name": "stdout",
     "output_type": "stream",
     "text": [
      "Catena-X Business Model Score: 3.4166666666666665\n",
      "Catena-X Use Case Development Score: 3.6\n",
      "Catena-X Data Space Offering Score: 3.78\n",
      "Catena-X Intermediaries and Operators Score: 3.161904761904762\n",
      "Catena-X Organizational Form and Governance Authority Score: 4.2\n",
      "Catena-X Participation Management: 2.8055555555555554\n",
      "Catena-X Regulatory Compliance: 3.452380952380952\n",
      "Catena-X Contractual Framework Score: 3.916666666666667\n"
     ]
    }
   ],
   "source": [
    "print(\"Catena-X Business Model Score:\", cx_score_bm)\n",
    "print(\"Catena-X Use Case Development Score:\", cx_score_ucd)\n",
    "print(\"Catena-X Data Space Offering Score:\", cx_score_dso)\n",
    "print(\"Catena-X Intermediaries and Operators Score:\", cx_score_io)\n",
    "print(\"Catena-X Organizational Form and Governance Authority Score:\", cx_score_ofga)\n",
    "print(\"Catena-X Participation Management:\", cx_score_pm)\n",
    "print(\"Catena-X Regulatory Compliance:\", cx_score_rc)\n",
    "print(\"Catena-X Contractual Framework Score:\", cx_score_cf)"
   ]
  },
  {
   "cell_type": "markdown",
   "metadata": {},
   "source": [
    "# DS4SSCC Scores"
   ]
  },
  {
   "cell_type": "code",
   "execution_count": 22,
   "metadata": {},
   "outputs": [],
   "source": [
    "# Business Model\n",
    "\n",
    "ds4sscc_bm_score_value_proposition = [3,2,3,4]\n",
    "ds4sscc_bm_score_multi_sidedness = [3,2,2,3]\n",
    "ds4sscc_bm_score_collaborative_bm = [1,3,3]\n",
    "ds4sscc_bm_score_governance_authority = [4,3,2]\n",
    "ds4sscc_bm_score_dynamic_capabilities = [2,2,3]\n",
    "ds4sscc_bm_score_revenue_cost = [3,2,2]\n",
    "\n",
    "ds4sscc_score_bm = sum([ sum(ds4sscc_bm_score_value_proposition)/4, \n",
    "                                sum(ds4sscc_bm_score_multi_sidedness)/4,\n",
    "                                sum(ds4sscc_bm_score_collaborative_bm)/3,\n",
    "                                sum(ds4sscc_bm_score_governance_authority)/3,\n",
    "                                sum(ds4sscc_bm_score_dynamic_capabilities)/3,\n",
    "                                sum(ds4sscc_bm_score_revenue_cost)/3\n",
    "                            ])/6\n",
    "\n",
    "\n",
    "\n",
    "\n",
    "# Use Case Development\n",
    "\n",
    "ds4sscc_ucd_score_use_case_identification = [3,4,2,3]\n",
    "ds4sscc_ucd_score_use_case_scenario_refinement = [4,3,3,1]\n",
    "ds4sscc_ucd_score_use_case_implementation = [3,4,1,1]\n",
    "ds4sscc_ucd_score_continuous_improvement = [3,4,4,2]\n",
    "ds4sscc_ucd_score_use_case_orchestration = [2,3,1,3]\n",
    "\n",
    "ds4sscc_score_ucd = sum([ sum(ds4sscc_ucd_score_use_case_scenario_refinement)/4, \n",
    "                                sum(ds4sscc_ucd_score_use_case_scenario_refinement)/4,\n",
    "                                sum(ds4sscc_ucd_score_use_case_implementation)/4,\n",
    "                                sum(ds4sscc_ucd_score_continuous_improvement)/4,\n",
    "                                sum(ds4sscc_ucd_score_use_case_orchestration)/4\n",
    "                            ])/5\n",
    "\n",
    "\n",
    "\n",
    "# Data Space Offering\n",
    "\n",
    "ds4sscc_dso_score_data_products = [4,3,2,4,3]\n",
    "ds4sscc_dso_score_services = [4,3,3]\n",
    "ds4sscc_dso_score_offering_strategy = [4,3,4,3]\n",
    "ds4sscc_dso_score_governance_rules = [4,4,3,3]\n",
    "ds4sscc_dso_score_participant_support = [3,3,3,3]\n",
    "\n",
    "ds4sscc_score_dso = sum([ sum(ds4sscc_dso_score_data_products)/5, \n",
    "                                sum(ds4sscc_dso_score_services)/3,\n",
    "                                sum(ds4sscc_dso_score_offering_strategy)/4,\n",
    "                                sum(ds4sscc_dso_score_governance_rules)/4,\n",
    "                                sum(ds4sscc_dso_score_participant_support)/4\n",
    "                            ])/5\n",
    "\n",
    "\n",
    "\n",
    "# Intermediaries and Operators\n",
    "\n",
    "ds4sscc_io_score_service_provision = [3,3,2]\n",
    "ds4sscc_io_score_governance_framework_integration = [4,3,3]\n",
    "ds4sscc_io_score_business_revenue = [3,3]\n",
    "ds4sscc_io_score_interoperability_collaboration = [3,3,2]\n",
    "ds4sscc_io_score_risk_management = [3,1]\n",
    "ds4sscc_io_score_regulatory_compliance = [4,2]\n",
    "ds4sscc_io_score_service_provider_responsibilities = [3,3,1,1,3]\n",
    "\n",
    "ds4sscc_score_io = sum([ sum(ds4sscc_io_score_service_provision)/3, \n",
    "                                sum(ds4sscc_io_score_governance_framework_integration)/3,\n",
    "                                sum(ds4sscc_io_score_business_revenue)/2,\n",
    "                                sum(ds4sscc_io_score_interoperability_collaboration)/3,\n",
    "                                sum(ds4sscc_io_score_risk_management)/2,\n",
    "                                sum(ds4sscc_io_score_regulatory_compliance)/2,\n",
    "                                sum(ds4sscc_io_score_service_provider_responsibilities)/5\n",
    "                            ])/7\n",
    "\n",
    "\n",
    "\n",
    "# Organizational Form and Governance Authority\n",
    "\n",
    "ds4sscc_ofga_score_organizational_form_decision = [2,4,1]\n",
    "ds4sscc_ofga_score_governance_authority = [3,1,3,3,2,3,2,]\n",
    "ds4sscc_ofga_score_governance_framework_development = [4,2,4,3,4,2,5,2,2,1]\n",
    "\n",
    "ds4sscc_score_ofga = sum([\n",
    "                        sum(ds4sscc_ofga_score_organizational_form_decision)/3,\n",
    "                        sum(ds4sscc_ofga_score_governance_authority)/7,\n",
    "                        sum(ds4sscc_ofga_score_governance_framework_development)/10\n",
    "                    ])/3\n",
    "\n",
    "\n",
    "# Participation Management\n",
    "\n",
    "ds4sscc_pm_score_roles_responsibilities = [3,3]\n",
    "ds4sscc_pm_score_onboarding_process = [2,1,3]\n",
    "ds4sscc_pm_score_offboarding_process = [1,2,1]\n",
    "ds4sscc_pm_score_compliance_alignment = [3,3,4]\n",
    "ds4sscc_pm_score_transaction_facilitation = [4,4]\n",
    "ds4sscc_pm_score_stakeholder_engagement = [4,3]\n",
    "\n",
    "ds4sscc_score_pm = sum([ sum(ds4sscc_pm_score_roles_responsibilities)/2, \n",
    "                                sum(ds4sscc_pm_score_onboarding_process)/3,\n",
    "                                sum(ds4sscc_pm_score_offboarding_process)/3,\n",
    "                                sum(ds4sscc_pm_score_compliance_alignment)/3,\n",
    "                                sum(ds4sscc_pm_score_transaction_facilitation)/3,\n",
    "                                sum(ds4sscc_pm_score_stakeholder_engagement)/2\n",
    "                            ])/6\n",
    "\n",
    "\n",
    "# Regulatory Compliance\n",
    "\n",
    "ds4sscc_rc_score_triggers = [2,3]\n",
    "ds4sscc_rc_score_data_space_requirements = [3,3,2]\n",
    "ds4sscc_rc_score_additional = [2,1,1]\n",
    "ds4sscc_rc_score_tools = [1,1,1]\n",
    "ds4sscc_rc_score_flowcharts = [1]\n",
    "ds4sscc_rc_score_governance_authority = [3,2,2]\n",
    "ds4sscc_rc_score_participant_rights = [3,3]\n",
    "\n",
    "ds4sscc_score_rc = sum([ sum(ds4sscc_rc_score_triggers)/2, \n",
    "                                sum(ds4sscc_rc_score_data_space_requirements)/3,\n",
    "                                sum(ds4sscc_rc_score_additional)/3,\n",
    "                                sum(ds4sscc_rc_score_tools)/3,\n",
    "                                sum(ds4sscc_rc_score_flowcharts)/1,\n",
    "                                sum(ds4sscc_rc_score_governance_authority)/3,\n",
    "                                sum(ds4sscc_rc_score_participant_rights)/2\n",
    "                            ])/7\n",
    "\n",
    "\n",
    "# Contractual Framework\n",
    "\n",
    "ds4sscc_cf_score_institutional_agreements = [3,3,2,3]\n",
    "ds4sscc_cf_score_data_sharing_agreements = [2,2,3,1]\n",
    "ds4sscc_cf_score_service_agreements = [3,1,2,3]\n",
    "ds4sscc_cf_score_legal_interoperability = [2,1,3]\n",
    "ds4sscc_cf_score_regulatory_compliance = [4,2]\n",
    "\n",
    "ds4sscc_score_cf = sum([ sum(ds4sscc_cf_score_institutional_agreements)/4, \n",
    "                                sum(ds4sscc_cf_score_data_sharing_agreements)/4,\n",
    "                                sum(ds4sscc_cf_score_service_agreements)/4,\n",
    "                                sum(ds4sscc_cf_score_legal_interoperability)/3,\n",
    "                                sum(ds4sscc_cf_score_regulatory_compliance)/4\n",
    "                            ])/5\n",
    "\n",
    "ds4sscc_scores = [ds4sscc_score_bm, ds4sscc_score_ucd, ds4sscc_score_dso, ds4sscc_score_io, ds4sscc_score_ofga, ds4sscc_score_pm, ds4sscc_score_rc, ds4sscc_score_cf]\n"
   ]
  },
  {
   "cell_type": "markdown",
   "metadata": {},
   "source": [
    "# Radar Plots"
   ]
  },
  {
   "cell_type": "code",
   "execution_count": 23,
   "metadata": {},
   "outputs": [
    {
     "data": {
      "application/vnd.plotly.v1+json": {
       "config": {
        "plotlyServerURL": "https://plot.ly"
       },
       "data": [
        {
         "fill": "toself",
         "hovertemplate": "cx_r=%{r}<br>theta=%{theta}<extra></extra>",
         "legendgroup": "",
         "line": {
          "color": "#636efa",
          "dash": "solid"
         },
         "marker": {
          "symbol": "circle"
         },
         "mode": "lines",
         "name": "",
         "r": {
          "bdata": "VVVVVVVVC0DNzMzMzMwMQD0K16NwPQ5AupRLuZRLCUDNzMzMzMwQQBzHcRzHcQZA53me53meC0BWVVVVVVUPQFVVVVVVVQtA",
          "dtype": "f8"
         },
         "showlegend": false,
         "subplot": "polar",
         "theta": [
          "Business Model",
          "Use Case Development",
          "Data Space Offering",
          "Intermediaries and Operators",
          "Participation Management",
          "Organizational Form and Governance Authority",
          "Regulatory Compliance",
          "Contractual Framework",
          "Business Model"
         ],
         "type": "scatterpolar"
        }
       ],
       "layout": {
        "legend": {
         "tracegroupgap": 0
        },
        "margin": {
         "t": 60
        },
        "polar": {
         "angularaxis": {
          "direction": "clockwise",
          "rotation": 90
         },
         "domain": {
          "x": [
           0,
           1
          ],
          "y": [
           0,
           1
          ]
         },
         "radialaxis": {
          "range": [
           0,
           5
          ],
          "tickmode": "array",
          "tickvals": [
           1,
           2,
           3,
           4,
           5
          ]
         }
        },
        "template": {
         "data": {
          "bar": [
           {
            "error_x": {
             "color": "#2a3f5f"
            },
            "error_y": {
             "color": "#2a3f5f"
            },
            "marker": {
             "line": {
              "color": "#E5ECF6",
              "width": 0.5
             },
             "pattern": {
              "fillmode": "overlay",
              "size": 10,
              "solidity": 0.2
             }
            },
            "type": "bar"
           }
          ],
          "barpolar": [
           {
            "marker": {
             "line": {
              "color": "#E5ECF6",
              "width": 0.5
             },
             "pattern": {
              "fillmode": "overlay",
              "size": 10,
              "solidity": 0.2
             }
            },
            "type": "barpolar"
           }
          ],
          "carpet": [
           {
            "aaxis": {
             "endlinecolor": "#2a3f5f",
             "gridcolor": "white",
             "linecolor": "white",
             "minorgridcolor": "white",
             "startlinecolor": "#2a3f5f"
            },
            "baxis": {
             "endlinecolor": "#2a3f5f",
             "gridcolor": "white",
             "linecolor": "white",
             "minorgridcolor": "white",
             "startlinecolor": "#2a3f5f"
            },
            "type": "carpet"
           }
          ],
          "choropleth": [
           {
            "colorbar": {
             "outlinewidth": 0,
             "ticks": ""
            },
            "type": "choropleth"
           }
          ],
          "contour": [
           {
            "colorbar": {
             "outlinewidth": 0,
             "ticks": ""
            },
            "colorscale": [
             [
              0,
              "#0d0887"
             ],
             [
              0.1111111111111111,
              "#46039f"
             ],
             [
              0.2222222222222222,
              "#7201a8"
             ],
             [
              0.3333333333333333,
              "#9c179e"
             ],
             [
              0.4444444444444444,
              "#bd3786"
             ],
             [
              0.5555555555555556,
              "#d8576b"
             ],
             [
              0.6666666666666666,
              "#ed7953"
             ],
             [
              0.7777777777777778,
              "#fb9f3a"
             ],
             [
              0.8888888888888888,
              "#fdca26"
             ],
             [
              1,
              "#f0f921"
             ]
            ],
            "type": "contour"
           }
          ],
          "contourcarpet": [
           {
            "colorbar": {
             "outlinewidth": 0,
             "ticks": ""
            },
            "type": "contourcarpet"
           }
          ],
          "heatmap": [
           {
            "colorbar": {
             "outlinewidth": 0,
             "ticks": ""
            },
            "colorscale": [
             [
              0,
              "#0d0887"
             ],
             [
              0.1111111111111111,
              "#46039f"
             ],
             [
              0.2222222222222222,
              "#7201a8"
             ],
             [
              0.3333333333333333,
              "#9c179e"
             ],
             [
              0.4444444444444444,
              "#bd3786"
             ],
             [
              0.5555555555555556,
              "#d8576b"
             ],
             [
              0.6666666666666666,
              "#ed7953"
             ],
             [
              0.7777777777777778,
              "#fb9f3a"
             ],
             [
              0.8888888888888888,
              "#fdca26"
             ],
             [
              1,
              "#f0f921"
             ]
            ],
            "type": "heatmap"
           }
          ],
          "histogram": [
           {
            "marker": {
             "pattern": {
              "fillmode": "overlay",
              "size": 10,
              "solidity": 0.2
             }
            },
            "type": "histogram"
           }
          ],
          "histogram2d": [
           {
            "colorbar": {
             "outlinewidth": 0,
             "ticks": ""
            },
            "colorscale": [
             [
              0,
              "#0d0887"
             ],
             [
              0.1111111111111111,
              "#46039f"
             ],
             [
              0.2222222222222222,
              "#7201a8"
             ],
             [
              0.3333333333333333,
              "#9c179e"
             ],
             [
              0.4444444444444444,
              "#bd3786"
             ],
             [
              0.5555555555555556,
              "#d8576b"
             ],
             [
              0.6666666666666666,
              "#ed7953"
             ],
             [
              0.7777777777777778,
              "#fb9f3a"
             ],
             [
              0.8888888888888888,
              "#fdca26"
             ],
             [
              1,
              "#f0f921"
             ]
            ],
            "type": "histogram2d"
           }
          ],
          "histogram2dcontour": [
           {
            "colorbar": {
             "outlinewidth": 0,
             "ticks": ""
            },
            "colorscale": [
             [
              0,
              "#0d0887"
             ],
             [
              0.1111111111111111,
              "#46039f"
             ],
             [
              0.2222222222222222,
              "#7201a8"
             ],
             [
              0.3333333333333333,
              "#9c179e"
             ],
             [
              0.4444444444444444,
              "#bd3786"
             ],
             [
              0.5555555555555556,
              "#d8576b"
             ],
             [
              0.6666666666666666,
              "#ed7953"
             ],
             [
              0.7777777777777778,
              "#fb9f3a"
             ],
             [
              0.8888888888888888,
              "#fdca26"
             ],
             [
              1,
              "#f0f921"
             ]
            ],
            "type": "histogram2dcontour"
           }
          ],
          "mesh3d": [
           {
            "colorbar": {
             "outlinewidth": 0,
             "ticks": ""
            },
            "type": "mesh3d"
           }
          ],
          "parcoords": [
           {
            "line": {
             "colorbar": {
              "outlinewidth": 0,
              "ticks": ""
             }
            },
            "type": "parcoords"
           }
          ],
          "pie": [
           {
            "automargin": true,
            "type": "pie"
           }
          ],
          "scatter": [
           {
            "fillpattern": {
             "fillmode": "overlay",
             "size": 10,
             "solidity": 0.2
            },
            "type": "scatter"
           }
          ],
          "scatter3d": [
           {
            "line": {
             "colorbar": {
              "outlinewidth": 0,
              "ticks": ""
             }
            },
            "marker": {
             "colorbar": {
              "outlinewidth": 0,
              "ticks": ""
             }
            },
            "type": "scatter3d"
           }
          ],
          "scattercarpet": [
           {
            "marker": {
             "colorbar": {
              "outlinewidth": 0,
              "ticks": ""
             }
            },
            "type": "scattercarpet"
           }
          ],
          "scattergeo": [
           {
            "marker": {
             "colorbar": {
              "outlinewidth": 0,
              "ticks": ""
             }
            },
            "type": "scattergeo"
           }
          ],
          "scattergl": [
           {
            "marker": {
             "colorbar": {
              "outlinewidth": 0,
              "ticks": ""
             }
            },
            "type": "scattergl"
           }
          ],
          "scattermap": [
           {
            "marker": {
             "colorbar": {
              "outlinewidth": 0,
              "ticks": ""
             }
            },
            "type": "scattermap"
           }
          ],
          "scattermapbox": [
           {
            "marker": {
             "colorbar": {
              "outlinewidth": 0,
              "ticks": ""
             }
            },
            "type": "scattermapbox"
           }
          ],
          "scatterpolar": [
           {
            "marker": {
             "colorbar": {
              "outlinewidth": 0,
              "ticks": ""
             }
            },
            "type": "scatterpolar"
           }
          ],
          "scatterpolargl": [
           {
            "marker": {
             "colorbar": {
              "outlinewidth": 0,
              "ticks": ""
             }
            },
            "type": "scatterpolargl"
           }
          ],
          "scatterternary": [
           {
            "marker": {
             "colorbar": {
              "outlinewidth": 0,
              "ticks": ""
             }
            },
            "type": "scatterternary"
           }
          ],
          "surface": [
           {
            "colorbar": {
             "outlinewidth": 0,
             "ticks": ""
            },
            "colorscale": [
             [
              0,
              "#0d0887"
             ],
             [
              0.1111111111111111,
              "#46039f"
             ],
             [
              0.2222222222222222,
              "#7201a8"
             ],
             [
              0.3333333333333333,
              "#9c179e"
             ],
             [
              0.4444444444444444,
              "#bd3786"
             ],
             [
              0.5555555555555556,
              "#d8576b"
             ],
             [
              0.6666666666666666,
              "#ed7953"
             ],
             [
              0.7777777777777778,
              "#fb9f3a"
             ],
             [
              0.8888888888888888,
              "#fdca26"
             ],
             [
              1,
              "#f0f921"
             ]
            ],
            "type": "surface"
           }
          ],
          "table": [
           {
            "cells": {
             "fill": {
              "color": "#EBF0F8"
             },
             "line": {
              "color": "white"
             }
            },
            "header": {
             "fill": {
              "color": "#C8D4E3"
             },
             "line": {
              "color": "white"
             }
            },
            "type": "table"
           }
          ]
         },
         "layout": {
          "annotationdefaults": {
           "arrowcolor": "#2a3f5f",
           "arrowhead": 0,
           "arrowwidth": 1
          },
          "autotypenumbers": "strict",
          "coloraxis": {
           "colorbar": {
            "outlinewidth": 0,
            "ticks": ""
           }
          },
          "colorscale": {
           "diverging": [
            [
             0,
             "#8e0152"
            ],
            [
             0.1,
             "#c51b7d"
            ],
            [
             0.2,
             "#de77ae"
            ],
            [
             0.3,
             "#f1b6da"
            ],
            [
             0.4,
             "#fde0ef"
            ],
            [
             0.5,
             "#f7f7f7"
            ],
            [
             0.6,
             "#e6f5d0"
            ],
            [
             0.7,
             "#b8e186"
            ],
            [
             0.8,
             "#7fbc41"
            ],
            [
             0.9,
             "#4d9221"
            ],
            [
             1,
             "#276419"
            ]
           ],
           "sequential": [
            [
             0,
             "#0d0887"
            ],
            [
             0.1111111111111111,
             "#46039f"
            ],
            [
             0.2222222222222222,
             "#7201a8"
            ],
            [
             0.3333333333333333,
             "#9c179e"
            ],
            [
             0.4444444444444444,
             "#bd3786"
            ],
            [
             0.5555555555555556,
             "#d8576b"
            ],
            [
             0.6666666666666666,
             "#ed7953"
            ],
            [
             0.7777777777777778,
             "#fb9f3a"
            ],
            [
             0.8888888888888888,
             "#fdca26"
            ],
            [
             1,
             "#f0f921"
            ]
           ],
           "sequentialminus": [
            [
             0,
             "#0d0887"
            ],
            [
             0.1111111111111111,
             "#46039f"
            ],
            [
             0.2222222222222222,
             "#7201a8"
            ],
            [
             0.3333333333333333,
             "#9c179e"
            ],
            [
             0.4444444444444444,
             "#bd3786"
            ],
            [
             0.5555555555555556,
             "#d8576b"
            ],
            [
             0.6666666666666666,
             "#ed7953"
            ],
            [
             0.7777777777777778,
             "#fb9f3a"
            ],
            [
             0.8888888888888888,
             "#fdca26"
            ],
            [
             1,
             "#f0f921"
            ]
           ]
          },
          "colorway": [
           "#636efa",
           "#EF553B",
           "#00cc96",
           "#ab63fa",
           "#FFA15A",
           "#19d3f3",
           "#FF6692",
           "#B6E880",
           "#FF97FF",
           "#FECB52"
          ],
          "font": {
           "color": "#2a3f5f"
          },
          "geo": {
           "bgcolor": "white",
           "lakecolor": "white",
           "landcolor": "#E5ECF6",
           "showlakes": true,
           "showland": true,
           "subunitcolor": "white"
          },
          "hoverlabel": {
           "align": "left"
          },
          "hovermode": "closest",
          "mapbox": {
           "style": "light"
          },
          "paper_bgcolor": "white",
          "plot_bgcolor": "#E5ECF6",
          "polar": {
           "angularaxis": {
            "gridcolor": "white",
            "linecolor": "white",
            "ticks": ""
           },
           "bgcolor": "#E5ECF6",
           "radialaxis": {
            "gridcolor": "white",
            "linecolor": "white",
            "ticks": ""
           }
          },
          "scene": {
           "xaxis": {
            "backgroundcolor": "#E5ECF6",
            "gridcolor": "white",
            "gridwidth": 2,
            "linecolor": "white",
            "showbackground": true,
            "ticks": "",
            "zerolinecolor": "white"
           },
           "yaxis": {
            "backgroundcolor": "#E5ECF6",
            "gridcolor": "white",
            "gridwidth": 2,
            "linecolor": "white",
            "showbackground": true,
            "ticks": "",
            "zerolinecolor": "white"
           },
           "zaxis": {
            "backgroundcolor": "#E5ECF6",
            "gridcolor": "white",
            "gridwidth": 2,
            "linecolor": "white",
            "showbackground": true,
            "ticks": "",
            "zerolinecolor": "white"
           }
          },
          "shapedefaults": {
           "line": {
            "color": "#2a3f5f"
           }
          },
          "ternary": {
           "aaxis": {
            "gridcolor": "white",
            "linecolor": "white",
            "ticks": ""
           },
           "baxis": {
            "gridcolor": "white",
            "linecolor": "white",
            "ticks": ""
           },
           "bgcolor": "#E5ECF6",
           "caxis": {
            "gridcolor": "white",
            "linecolor": "white",
            "ticks": ""
           }
          },
          "title": {
           "x": 0.05
          },
          "xaxis": {
           "automargin": true,
           "gridcolor": "white",
           "linecolor": "white",
           "ticks": "",
           "title": {
            "standoff": 15
           },
           "zerolinecolor": "white",
           "zerolinewidth": 2
          },
          "yaxis": {
           "automargin": true,
           "gridcolor": "white",
           "linecolor": "white",
           "ticks": "",
           "title": {
            "standoff": 15
           },
           "zerolinecolor": "white",
           "zerolinewidth": 2
          }
         }
        }
       }
      }
     },
     "metadata": {},
     "output_type": "display_data"
    },
    {
     "data": {
      "application/vnd.plotly.v1+json": {
       "config": {
        "plotlyServerURL": "https://plot.ly"
       },
       "data": [
        {
         "fill": "toself",
         "hovertemplate": "ds4sscc_r=%{r}<br>theta=%{theta}<extra></extra>",
         "legendgroup": "",
         "line": {
          "color": "#636efa",
          "dash": "solid"
         },
         "marker": {
          "symbol": "circle"
         },
         "mode": "lines",
         "name": "",
         "r": {
          "bdata": "q6qqqqqqBEAzMzMzMzMFQHPaQKcNdApA/diP/diPBUDohm7ohm4EQMdxHMdxHAVA6Hme53me/z/NzMzMzMwAQKuqqqqqqgRA",
          "dtype": "f8"
         },
         "showlegend": false,
         "subplot": "polar",
         "theta": [
          "Business Model",
          "Use Case Development",
          "Data Space Offering",
          "Intermediaries and Operators",
          "Participation Management",
          "Organizational Form and Governance Authority",
          "Regulatory Compliance",
          "Contractual Framework",
          "Business Model"
         ],
         "type": "scatterpolar"
        }
       ],
       "layout": {
        "legend": {
         "tracegroupgap": 0
        },
        "margin": {
         "t": 60
        },
        "polar": {
         "angularaxis": {
          "direction": "clockwise",
          "rotation": 90
         },
         "domain": {
          "x": [
           0,
           1
          ],
          "y": [
           0,
           1
          ]
         },
         "radialaxis": {
          "range": [
           0,
           5
          ],
          "tickmode": "array",
          "tickvals": [
           1,
           2,
           3,
           4,
           5
          ]
         }
        },
        "template": {
         "data": {
          "bar": [
           {
            "error_x": {
             "color": "#2a3f5f"
            },
            "error_y": {
             "color": "#2a3f5f"
            },
            "marker": {
             "line": {
              "color": "#E5ECF6",
              "width": 0.5
             },
             "pattern": {
              "fillmode": "overlay",
              "size": 10,
              "solidity": 0.2
             }
            },
            "type": "bar"
           }
          ],
          "barpolar": [
           {
            "marker": {
             "line": {
              "color": "#E5ECF6",
              "width": 0.5
             },
             "pattern": {
              "fillmode": "overlay",
              "size": 10,
              "solidity": 0.2
             }
            },
            "type": "barpolar"
           }
          ],
          "carpet": [
           {
            "aaxis": {
             "endlinecolor": "#2a3f5f",
             "gridcolor": "white",
             "linecolor": "white",
             "minorgridcolor": "white",
             "startlinecolor": "#2a3f5f"
            },
            "baxis": {
             "endlinecolor": "#2a3f5f",
             "gridcolor": "white",
             "linecolor": "white",
             "minorgridcolor": "white",
             "startlinecolor": "#2a3f5f"
            },
            "type": "carpet"
           }
          ],
          "choropleth": [
           {
            "colorbar": {
             "outlinewidth": 0,
             "ticks": ""
            },
            "type": "choropleth"
           }
          ],
          "contour": [
           {
            "colorbar": {
             "outlinewidth": 0,
             "ticks": ""
            },
            "colorscale": [
             [
              0,
              "#0d0887"
             ],
             [
              0.1111111111111111,
              "#46039f"
             ],
             [
              0.2222222222222222,
              "#7201a8"
             ],
             [
              0.3333333333333333,
              "#9c179e"
             ],
             [
              0.4444444444444444,
              "#bd3786"
             ],
             [
              0.5555555555555556,
              "#d8576b"
             ],
             [
              0.6666666666666666,
              "#ed7953"
             ],
             [
              0.7777777777777778,
              "#fb9f3a"
             ],
             [
              0.8888888888888888,
              "#fdca26"
             ],
             [
              1,
              "#f0f921"
             ]
            ],
            "type": "contour"
           }
          ],
          "contourcarpet": [
           {
            "colorbar": {
             "outlinewidth": 0,
             "ticks": ""
            },
            "type": "contourcarpet"
           }
          ],
          "heatmap": [
           {
            "colorbar": {
             "outlinewidth": 0,
             "ticks": ""
            },
            "colorscale": [
             [
              0,
              "#0d0887"
             ],
             [
              0.1111111111111111,
              "#46039f"
             ],
             [
              0.2222222222222222,
              "#7201a8"
             ],
             [
              0.3333333333333333,
              "#9c179e"
             ],
             [
              0.4444444444444444,
              "#bd3786"
             ],
             [
              0.5555555555555556,
              "#d8576b"
             ],
             [
              0.6666666666666666,
              "#ed7953"
             ],
             [
              0.7777777777777778,
              "#fb9f3a"
             ],
             [
              0.8888888888888888,
              "#fdca26"
             ],
             [
              1,
              "#f0f921"
             ]
            ],
            "type": "heatmap"
           }
          ],
          "histogram": [
           {
            "marker": {
             "pattern": {
              "fillmode": "overlay",
              "size": 10,
              "solidity": 0.2
             }
            },
            "type": "histogram"
           }
          ],
          "histogram2d": [
           {
            "colorbar": {
             "outlinewidth": 0,
             "ticks": ""
            },
            "colorscale": [
             [
              0,
              "#0d0887"
             ],
             [
              0.1111111111111111,
              "#46039f"
             ],
             [
              0.2222222222222222,
              "#7201a8"
             ],
             [
              0.3333333333333333,
              "#9c179e"
             ],
             [
              0.4444444444444444,
              "#bd3786"
             ],
             [
              0.5555555555555556,
              "#d8576b"
             ],
             [
              0.6666666666666666,
              "#ed7953"
             ],
             [
              0.7777777777777778,
              "#fb9f3a"
             ],
             [
              0.8888888888888888,
              "#fdca26"
             ],
             [
              1,
              "#f0f921"
             ]
            ],
            "type": "histogram2d"
           }
          ],
          "histogram2dcontour": [
           {
            "colorbar": {
             "outlinewidth": 0,
             "ticks": ""
            },
            "colorscale": [
             [
              0,
              "#0d0887"
             ],
             [
              0.1111111111111111,
              "#46039f"
             ],
             [
              0.2222222222222222,
              "#7201a8"
             ],
             [
              0.3333333333333333,
              "#9c179e"
             ],
             [
              0.4444444444444444,
              "#bd3786"
             ],
             [
              0.5555555555555556,
              "#d8576b"
             ],
             [
              0.6666666666666666,
              "#ed7953"
             ],
             [
              0.7777777777777778,
              "#fb9f3a"
             ],
             [
              0.8888888888888888,
              "#fdca26"
             ],
             [
              1,
              "#f0f921"
             ]
            ],
            "type": "histogram2dcontour"
           }
          ],
          "mesh3d": [
           {
            "colorbar": {
             "outlinewidth": 0,
             "ticks": ""
            },
            "type": "mesh3d"
           }
          ],
          "parcoords": [
           {
            "line": {
             "colorbar": {
              "outlinewidth": 0,
              "ticks": ""
             }
            },
            "type": "parcoords"
           }
          ],
          "pie": [
           {
            "automargin": true,
            "type": "pie"
           }
          ],
          "scatter": [
           {
            "fillpattern": {
             "fillmode": "overlay",
             "size": 10,
             "solidity": 0.2
            },
            "type": "scatter"
           }
          ],
          "scatter3d": [
           {
            "line": {
             "colorbar": {
              "outlinewidth": 0,
              "ticks": ""
             }
            },
            "marker": {
             "colorbar": {
              "outlinewidth": 0,
              "ticks": ""
             }
            },
            "type": "scatter3d"
           }
          ],
          "scattercarpet": [
           {
            "marker": {
             "colorbar": {
              "outlinewidth": 0,
              "ticks": ""
             }
            },
            "type": "scattercarpet"
           }
          ],
          "scattergeo": [
           {
            "marker": {
             "colorbar": {
              "outlinewidth": 0,
              "ticks": ""
             }
            },
            "type": "scattergeo"
           }
          ],
          "scattergl": [
           {
            "marker": {
             "colorbar": {
              "outlinewidth": 0,
              "ticks": ""
             }
            },
            "type": "scattergl"
           }
          ],
          "scattermap": [
           {
            "marker": {
             "colorbar": {
              "outlinewidth": 0,
              "ticks": ""
             }
            },
            "type": "scattermap"
           }
          ],
          "scattermapbox": [
           {
            "marker": {
             "colorbar": {
              "outlinewidth": 0,
              "ticks": ""
             }
            },
            "type": "scattermapbox"
           }
          ],
          "scatterpolar": [
           {
            "marker": {
             "colorbar": {
              "outlinewidth": 0,
              "ticks": ""
             }
            },
            "type": "scatterpolar"
           }
          ],
          "scatterpolargl": [
           {
            "marker": {
             "colorbar": {
              "outlinewidth": 0,
              "ticks": ""
             }
            },
            "type": "scatterpolargl"
           }
          ],
          "scatterternary": [
           {
            "marker": {
             "colorbar": {
              "outlinewidth": 0,
              "ticks": ""
             }
            },
            "type": "scatterternary"
           }
          ],
          "surface": [
           {
            "colorbar": {
             "outlinewidth": 0,
             "ticks": ""
            },
            "colorscale": [
             [
              0,
              "#0d0887"
             ],
             [
              0.1111111111111111,
              "#46039f"
             ],
             [
              0.2222222222222222,
              "#7201a8"
             ],
             [
              0.3333333333333333,
              "#9c179e"
             ],
             [
              0.4444444444444444,
              "#bd3786"
             ],
             [
              0.5555555555555556,
              "#d8576b"
             ],
             [
              0.6666666666666666,
              "#ed7953"
             ],
             [
              0.7777777777777778,
              "#fb9f3a"
             ],
             [
              0.8888888888888888,
              "#fdca26"
             ],
             [
              1,
              "#f0f921"
             ]
            ],
            "type": "surface"
           }
          ],
          "table": [
           {
            "cells": {
             "fill": {
              "color": "#EBF0F8"
             },
             "line": {
              "color": "white"
             }
            },
            "header": {
             "fill": {
              "color": "#C8D4E3"
             },
             "line": {
              "color": "white"
             }
            },
            "type": "table"
           }
          ]
         },
         "layout": {
          "annotationdefaults": {
           "arrowcolor": "#2a3f5f",
           "arrowhead": 0,
           "arrowwidth": 1
          },
          "autotypenumbers": "strict",
          "coloraxis": {
           "colorbar": {
            "outlinewidth": 0,
            "ticks": ""
           }
          },
          "colorscale": {
           "diverging": [
            [
             0,
             "#8e0152"
            ],
            [
             0.1,
             "#c51b7d"
            ],
            [
             0.2,
             "#de77ae"
            ],
            [
             0.3,
             "#f1b6da"
            ],
            [
             0.4,
             "#fde0ef"
            ],
            [
             0.5,
             "#f7f7f7"
            ],
            [
             0.6,
             "#e6f5d0"
            ],
            [
             0.7,
             "#b8e186"
            ],
            [
             0.8,
             "#7fbc41"
            ],
            [
             0.9,
             "#4d9221"
            ],
            [
             1,
             "#276419"
            ]
           ],
           "sequential": [
            [
             0,
             "#0d0887"
            ],
            [
             0.1111111111111111,
             "#46039f"
            ],
            [
             0.2222222222222222,
             "#7201a8"
            ],
            [
             0.3333333333333333,
             "#9c179e"
            ],
            [
             0.4444444444444444,
             "#bd3786"
            ],
            [
             0.5555555555555556,
             "#d8576b"
            ],
            [
             0.6666666666666666,
             "#ed7953"
            ],
            [
             0.7777777777777778,
             "#fb9f3a"
            ],
            [
             0.8888888888888888,
             "#fdca26"
            ],
            [
             1,
             "#f0f921"
            ]
           ],
           "sequentialminus": [
            [
             0,
             "#0d0887"
            ],
            [
             0.1111111111111111,
             "#46039f"
            ],
            [
             0.2222222222222222,
             "#7201a8"
            ],
            [
             0.3333333333333333,
             "#9c179e"
            ],
            [
             0.4444444444444444,
             "#bd3786"
            ],
            [
             0.5555555555555556,
             "#d8576b"
            ],
            [
             0.6666666666666666,
             "#ed7953"
            ],
            [
             0.7777777777777778,
             "#fb9f3a"
            ],
            [
             0.8888888888888888,
             "#fdca26"
            ],
            [
             1,
             "#f0f921"
            ]
           ]
          },
          "colorway": [
           "#636efa",
           "#EF553B",
           "#00cc96",
           "#ab63fa",
           "#FFA15A",
           "#19d3f3",
           "#FF6692",
           "#B6E880",
           "#FF97FF",
           "#FECB52"
          ],
          "font": {
           "color": "#2a3f5f"
          },
          "geo": {
           "bgcolor": "white",
           "lakecolor": "white",
           "landcolor": "#E5ECF6",
           "showlakes": true,
           "showland": true,
           "subunitcolor": "white"
          },
          "hoverlabel": {
           "align": "left"
          },
          "hovermode": "closest",
          "mapbox": {
           "style": "light"
          },
          "paper_bgcolor": "white",
          "plot_bgcolor": "#E5ECF6",
          "polar": {
           "angularaxis": {
            "gridcolor": "white",
            "linecolor": "white",
            "ticks": ""
           },
           "bgcolor": "#E5ECF6",
           "radialaxis": {
            "gridcolor": "white",
            "linecolor": "white",
            "ticks": ""
           }
          },
          "scene": {
           "xaxis": {
            "backgroundcolor": "#E5ECF6",
            "gridcolor": "white",
            "gridwidth": 2,
            "linecolor": "white",
            "showbackground": true,
            "ticks": "",
            "zerolinecolor": "white"
           },
           "yaxis": {
            "backgroundcolor": "#E5ECF6",
            "gridcolor": "white",
            "gridwidth": 2,
            "linecolor": "white",
            "showbackground": true,
            "ticks": "",
            "zerolinecolor": "white"
           },
           "zaxis": {
            "backgroundcolor": "#E5ECF6",
            "gridcolor": "white",
            "gridwidth": 2,
            "linecolor": "white",
            "showbackground": true,
            "ticks": "",
            "zerolinecolor": "white"
           }
          },
          "shapedefaults": {
           "line": {
            "color": "#2a3f5f"
           }
          },
          "ternary": {
           "aaxis": {
            "gridcolor": "white",
            "linecolor": "white",
            "ticks": ""
           },
           "baxis": {
            "gridcolor": "white",
            "linecolor": "white",
            "ticks": ""
           },
           "bgcolor": "#E5ECF6",
           "caxis": {
            "gridcolor": "white",
            "linecolor": "white",
            "ticks": ""
           }
          },
          "title": {
           "x": 0.05
          },
          "xaxis": {
           "automargin": true,
           "gridcolor": "white",
           "linecolor": "white",
           "ticks": "",
           "title": {
            "standoff": 15
           },
           "zerolinecolor": "white",
           "zerolinewidth": 2
          },
          "yaxis": {
           "automargin": true,
           "gridcolor": "white",
           "linecolor": "white",
           "ticks": "",
           "title": {
            "standoff": 15
           },
           "zerolinecolor": "white",
           "zerolinewidth": 2
          }
         }
        }
       }
      }
     },
     "metadata": {},
     "output_type": "display_data"
    }
   ],
   "source": [
    "cx_df = pd.DataFrame(dict(\n",
    "    cx_r = cx_scores,\n",
    "    theta=['Business Model', 'Use Case Development', 'Data Space Offering', 'Intermediaries and Operators', 'Participation Management', 'Organizational Form and Governance Authority', 'Regulatory Compliance', 'Contractual Framework']))\n",
    "\n",
    "ds4sscc_df = pd.DataFrame(dict(\n",
    "    ds4sscc_r = ds4sscc_scores,\n",
    "    theta=['Business Model', 'Use Case Development', 'Data Space Offering', 'Intermediaries and Operators', 'Participation Management', 'Organizational Form and Governance Authority', 'Regulatory Compliance', 'Contractual Framework']))\n",
    "\n",
    "\n",
    "\n",
    "cx_radar = px.line_polar(cx_df, r = 'cx_r', theta = 'theta', line_close = True)\n",
    "cx_radar.update_traces(fill='toself')\n",
    "cx_radar.update_polars(\n",
    "        radialaxis_tickvals = [1,2,3,4,5],\n",
    "        radialaxis_tickmode = \"array\",\n",
    "        radialaxis_range = [0,5]\n",
    ")\n",
    "cx_radar.show()\n",
    "\n",
    "ds4sscc_radar = px.line_polar(ds4sscc_df, r = 'ds4sscc_r', theta = 'theta', line_close = True)\n",
    "ds4sscc_radar.update_traces(fill='toself')\n",
    "ds4sscc_radar.update_polars(\n",
    "        radialaxis_tickvals = [1,2,3,4,5],\n",
    "        radialaxis_tickmode = \"array\",\n",
    "        radialaxis_range = [0,5]\n",
    ")\n",
    "ds4sscc_radar.show()"
   ]
  },
  {
   "cell_type": "code",
   "execution_count": null,
   "metadata": {},
   "outputs": [],
   "source": []
  }
 ],
 "metadata": {
  "kernelspec": {
   "display_name": "py311",
   "language": "python",
   "name": "python3"
  },
  "language_info": {
   "codemirror_mode": {
    "name": "ipython",
    "version": 3
   },
   "file_extension": ".py",
   "mimetype": "text/x-python",
   "name": "python",
   "nbconvert_exporter": "python",
   "pygments_lexer": "ipython3",
   "version": "3.11.10"
  }
 },
 "nbformat": 4,
 "nbformat_minor": 2
}
