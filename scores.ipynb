{
 "cells": [
  {
   "cell_type": "code",
   "execution_count": 9,
   "metadata": {},
   "outputs": [],
   "source": [
    "import pandas as pd\n",
    "import plotly.express as px\n",
    "import plotly.graph_objects as go"
   ]
  },
  {
   "cell_type": "markdown",
   "metadata": {},
   "source": [
    "# Catena-X Scores"
   ]
  },
  {
   "cell_type": "code",
   "execution_count": 2,
   "metadata": {},
   "outputs": [],
   "source": [
    "# Business Model\n",
    "\n",
    "cx_bm_score_value_proposition = [4,3,4,4]\n",
    "cx_bm_score_multi_sidedness = [4,4,4,3]\n",
    "cx_bm_score_collaborative_bm = [4,4,3]\n",
    "cx_bm_score_governance_authority = [5,4,3]\n",
    "cx_bm_score_dynamic_capabilities = [3,3,4]\n",
    "cx_bm_score_revenue_cost = [3,2,1]\n",
    "\n",
    "cx_score_bm = sum([ sum(cx_bm_score_value_proposition)/4, \n",
    "                                sum(cx_bm_score_multi_sidedness)/4,\n",
    "                                sum(cx_bm_score_collaborative_bm)/3,\n",
    "                                sum(cx_bm_score_governance_authority)/3,\n",
    "                                sum(cx_bm_score_dynamic_capabilities)/3,\n",
    "                                sum(cx_bm_score_revenue_cost)/3\n",
    "                            ])/6\n",
    "\n",
    "\n",
    "\n",
    "\n",
    "# Use Case Development\n",
    "\n",
    "cx_ucd_score_use_case_identification = [4,4,3,4]\n",
    "cx_ucd_score_use_case_scenario_refinement = [4,4,4,4]\n",
    "cx_ucd_score_use_case_implementation = [4,4,4,3]\n",
    "cx_ucd_score_continuous_improvement = [3,4,4,2]\n",
    "cx_ucd_score_use_case_orchestration = [3,3,3,3]\n",
    "\n",
    "cx_score_ucd = sum([ sum(cx_ucd_score_use_case_scenario_refinement)/4, \n",
    "                                sum(cx_ucd_score_use_case_scenario_refinement)/4,\n",
    "                                sum(cx_ucd_score_use_case_implementation)/4,\n",
    "                                sum(cx_ucd_score_continuous_improvement)/4,\n",
    "                                sum(cx_ucd_score_use_case_orchestration)/4\n",
    "                            ])/5\n",
    "\n",
    "\n",
    "\n",
    "# Data Space Offering\n",
    "\n",
    "cx_dso_score_data_products = [4,3,2,4,4]\n",
    "cx_dso_score_services = [4,4,4]\n",
    "cx_dso_score_offering_strategy = [4,3,4,4]\n",
    "cx_dso_score_governance_rules = [4,4,4,4]\n",
    "cx_dso_score_participant_support = [4,4,3,4]\n",
    "\n",
    "cx_score_dso = sum([ sum(cx_dso_score_data_products)/5, \n",
    "                                sum(cx_dso_score_services)/3,\n",
    "                                sum(cx_dso_score_offering_strategy)/4,\n",
    "                                sum(cx_dso_score_governance_rules)/4,\n",
    "                                sum(cx_dso_score_participant_support)/4\n",
    "                            ])/5\n",
    "\n",
    "\n",
    "\n",
    "# Intermediaries and Operators\n",
    "\n",
    "cx_io_score_service_provision = [4,3,3]\n",
    "cx_io_score_governance_framework_integration = [4,4,3]\n",
    "cx_io_score_business_revenue = [2,3]\n",
    "cx_io_score_interoperability_collaboration = [4,3,3]\n",
    "cx_io_score_risk_management = [3,2]\n",
    "cx_io_score_regulatory_compliance = [4,4]\n",
    "cx_io_score_service_provider_responsibilities = [4,3,1,2,4]\n",
    "\n",
    "cx_score_io = sum([ sum(cx_io_score_service_provision)/3, \n",
    "                                sum(cx_io_score_governance_framework_integration)/3,\n",
    "                                sum(cx_io_score_business_revenue)/2,\n",
    "                                sum(cx_io_score_interoperability_collaboration)/3,\n",
    "                                sum(cx_io_score_risk_management)/2,\n",
    "                                sum(cx_io_score_regulatory_compliance)/2,\n",
    "                                sum(cx_io_score_service_provider_responsibilities)/5\n",
    "                            ])/7\n",
    "\n",
    "\n",
    "\n",
    "# Organizational Form and Governance Authority\n",
    "\n",
    "cx_ofga_score_organizational_form_decision = [4,5,3]\n",
    "cx_ofga_score_governance_authority = [5,4,5,5,2,4,3]\n",
    "cx_ofga_score_governance_framework_development = [5,5,5,5,5,4,5,5,4,3]\n",
    "\n",
    "cx_score_ofga = sum([\n",
    "                        sum(cx_ofga_score_organizational_form_decision)/3,\n",
    "                        sum(cx_ofga_score_governance_authority)/7,\n",
    "                        sum(cx_ofga_score_governance_framework_development)/10\n",
    "                    ])/3\n",
    "\n",
    "\n",
    "# Participation Management\n",
    "\n",
    "cx_pm_score_roles_responsibilities = [5,3]\n",
    "cx_pm_score_onboarding_process = [4,3,4]\n",
    "cx_pm_score_offboarding_process = [1,1,1]\n",
    "cx_pm_score_compliance_alignment = [3,3,3]\n",
    "cx_pm_score_transaction_facilitation = [4,4]\n",
    "cx_pm_score_stakeholder_engagement = [3,2]\n",
    "\n",
    "cx_score_pm = sum([ sum(cx_pm_score_roles_responsibilities)/2, \n",
    "                                sum(cx_pm_score_onboarding_process)/3,\n",
    "                                sum(cx_pm_score_offboarding_process)/3,\n",
    "                                sum(cx_pm_score_compliance_alignment)/3,\n",
    "                                sum(cx_pm_score_transaction_facilitation)/3,\n",
    "                                sum(cx_pm_score_stakeholder_engagement)/2\n",
    "                            ])/6\n",
    "\n",
    "\n",
    "# Regulatory Compliance\n",
    "\n",
    "cx_rc_score_triggers = [3,4]\n",
    "cx_rc_score_data_space_requirements = [5,4,4]\n",
    "cx_rc_score_additional = [4,4,4]\n",
    "cx_rc_score_tools = [3,2,2]\n",
    "cx_rc_score_flowcharts = [2]\n",
    "cx_rc_score_governance_authority = [5,3,4]\n",
    "cx_rc_score_participant_rights = [4,4]\n",
    "\n",
    "cx_score_rc = sum([ sum(cx_rc_score_triggers)/2, \n",
    "                                sum(cx_rc_score_data_space_requirements)/3,\n",
    "                                sum(cx_rc_score_additional)/3,\n",
    "                                sum(cx_rc_score_tools)/3,\n",
    "                                sum(cx_rc_score_flowcharts)/1,\n",
    "                                sum(cx_rc_score_governance_authority)/3,\n",
    "                                sum(cx_rc_score_participant_rights)/2\n",
    "                            ])/7\n",
    "\n",
    "\n",
    "# Contractual Framework\n",
    "\n",
    "cx_cf_score_institutional_agreements = [4,3,5,5]\n",
    "cx_cf_score_data_sharing_agreements = [4,4,4,3]\n",
    "cx_cf_score_service_agreements = [4,5,5,4]\n",
    "cx_cf_score_legal_interoperability = [3,3,4]\n",
    "cx_cf_score_regulatory_compliance = [3,5,4,3]\n",
    "\n",
    "cx_score_cf = sum([ sum(cx_cf_score_institutional_agreements)/4, \n",
    "                                sum(cx_cf_score_data_sharing_agreements)/4,\n",
    "                                sum(cx_cf_score_service_agreements)/4,\n",
    "                                sum(cx_cf_score_legal_interoperability)/3,\n",
    "                                sum(cx_cf_score_regulatory_compliance)/4\n",
    "                            ])/5\n",
    "\n",
    "cx_scores = [cx_score_bm, cx_score_ucd, cx_score_dso, cx_score_io, cx_score_ofga, cx_score_pm, cx_score_rc, cx_score_cf]\n"
   ]
  },
  {
   "cell_type": "code",
   "execution_count": 3,
   "metadata": {},
   "outputs": [
    {
     "name": "stdout",
     "output_type": "stream",
     "text": [
      "Catena-X Business Model Score: 3.4166666666666665\n",
      "Catena-X Use Case Development Score: 3.6\n",
      "Catena-X Data Space Offering Score: 3.78\n",
      "Catena-X Intermediaries and Operators Score: 3.161904761904762\n",
      "Catena-X Organizational Form and Governance Authority Score: 4.2\n",
      "Catena-X Participation Management: 2.8055555555555554\n",
      "Catena-X Regulatory Compliance: 3.452380952380952\n",
      "Catena-X Contractual Framework Score: 3.916666666666667\n"
     ]
    }
   ],
   "source": [
    "print(\"Catena-X Business Model Score:\", cx_score_bm)\n",
    "print(\"Catena-X Use Case Development Score:\", cx_score_ucd)\n",
    "print(\"Catena-X Data Space Offering Score:\", cx_score_dso)\n",
    "print(\"Catena-X Intermediaries and Operators Score:\", cx_score_io)\n",
    "print(\"Catena-X Organizational Form and Governance Authority Score:\", cx_score_ofga)\n",
    "print(\"Catena-X Participation Management:\", cx_score_pm)\n",
    "print(\"Catena-X Regulatory Compliance:\", cx_score_rc)\n",
    "print(\"Catena-X Contractual Framework Score:\", cx_score_cf)"
   ]
  },
  {
   "cell_type": "markdown",
   "metadata": {},
   "source": [
    "# DS4SSCC Scores"
   ]
  },
  {
   "cell_type": "code",
   "execution_count": 4,
   "metadata": {},
   "outputs": [],
   "source": [
    "# Business Model\n",
    "\n",
    "ds4sscc_bm_score_value_proposition = [3,2,3,4]\n",
    "ds4sscc_bm_score_multi_sidedness = [3,2,2,3]\n",
    "ds4sscc_bm_score_collaborative_bm = [1,3,3]\n",
    "ds4sscc_bm_score_governance_authority = [4,3,2]\n",
    "ds4sscc_bm_score_dynamic_capabilities = [2,2,3]\n",
    "ds4sscc_bm_score_revenue_cost = [3,2,2]\n",
    "\n",
    "ds4sscc_score_bm = sum([ sum(ds4sscc_bm_score_value_proposition)/4, \n",
    "                                sum(ds4sscc_bm_score_multi_sidedness)/4,\n",
    "                                sum(ds4sscc_bm_score_collaborative_bm)/3,\n",
    "                                sum(ds4sscc_bm_score_governance_authority)/3,\n",
    "                                sum(ds4sscc_bm_score_dynamic_capabilities)/3,\n",
    "                                sum(ds4sscc_bm_score_revenue_cost)/3\n",
    "                            ])/6\n",
    "\n",
    "\n",
    "\n",
    "\n",
    "# Use Case Development\n",
    "\n",
    "ds4sscc_ucd_score_use_case_identification = [3,4,2,3]\n",
    "ds4sscc_ucd_score_use_case_scenario_refinement = [4,3,3,1]\n",
    "ds4sscc_ucd_score_use_case_implementation = [3,4,1,1]\n",
    "ds4sscc_ucd_score_continuous_improvement = [3,4,4,2]\n",
    "ds4sscc_ucd_score_use_case_orchestration = [2,3,1,3]\n",
    "\n",
    "ds4sscc_score_ucd = sum([ sum(ds4sscc_ucd_score_use_case_scenario_refinement)/4, \n",
    "                                sum(ds4sscc_ucd_score_use_case_scenario_refinement)/4,\n",
    "                                sum(ds4sscc_ucd_score_use_case_implementation)/4,\n",
    "                                sum(ds4sscc_ucd_score_continuous_improvement)/4,\n",
    "                                sum(ds4sscc_ucd_score_use_case_orchestration)/4\n",
    "                            ])/5\n",
    "\n",
    "\n",
    "\n",
    "# Data Space Offering\n",
    "\n",
    "ds4sscc_dso_score_data_products = [4,3,2,4,3]\n",
    "ds4sscc_dso_score_services = [4,3,3]\n",
    "ds4sscc_dso_score_offering_strategy = [4,3,4,3]\n",
    "ds4sscc_dso_score_governance_rules = [4,4,3,3]\n",
    "ds4sscc_dso_score_participant_support = [3,3,3,3]\n",
    "\n",
    "ds4sscc_score_dso = sum([ sum(ds4sscc_dso_score_data_products)/5, \n",
    "                                sum(ds4sscc_dso_score_services)/3,\n",
    "                                sum(ds4sscc_dso_score_offering_strategy)/4,\n",
    "                                sum(ds4sscc_dso_score_governance_rules)/4,\n",
    "                                sum(ds4sscc_dso_score_participant_support)/4\n",
    "                            ])/5\n",
    "\n",
    "\n",
    "\n",
    "# Intermediaries and Operators\n",
    "\n",
    "ds4sscc_io_score_service_provision = [3,3,2]\n",
    "ds4sscc_io_score_governance_framework_integration = [4,3,3]\n",
    "ds4sscc_io_score_business_revenue = [3,3]\n",
    "ds4sscc_io_score_interoperability_collaboration = [3,3,2]\n",
    "ds4sscc_io_score_risk_management = [3,1]\n",
    "ds4sscc_io_score_regulatory_compliance = [4,2]\n",
    "ds4sscc_io_score_service_provider_responsibilities = [3,3,1,1,3]\n",
    "\n",
    "ds4sscc_score_io = sum([ sum(ds4sscc_io_score_service_provision)/3, \n",
    "                                sum(ds4sscc_io_score_governance_framework_integration)/3,\n",
    "                                sum(ds4sscc_io_score_business_revenue)/2,\n",
    "                                sum(ds4sscc_io_score_interoperability_collaboration)/3,\n",
    "                                sum(ds4sscc_io_score_risk_management)/2,\n",
    "                                sum(ds4sscc_io_score_regulatory_compliance)/2,\n",
    "                                sum(ds4sscc_io_score_service_provider_responsibilities)/5\n",
    "                            ])/7\n",
    "\n",
    "\n",
    "\n",
    "# Organizational Form and Governance Authority\n",
    "\n",
    "ds4sscc_ofga_score_organizational_form_decision = [2,4,1]\n",
    "ds4sscc_ofga_score_governance_authority = [3,1,3,3,2,3,2,]\n",
    "ds4sscc_ofga_score_governance_framework_development = [4,2,4,3,4,2,5,2,2,1]\n",
    "\n",
    "ds4sscc_score_ofga = sum([\n",
    "                        sum(ds4sscc_ofga_score_organizational_form_decision)/3,\n",
    "                        sum(ds4sscc_ofga_score_governance_authority)/7,\n",
    "                        sum(ds4sscc_ofga_score_governance_framework_development)/10\n",
    "                    ])/3\n",
    "\n",
    "\n",
    "# Participation Management\n",
    "\n",
    "ds4sscc_pm_score_roles_responsibilities = [3,3]\n",
    "ds4sscc_pm_score_onboarding_process = [2,1,3]\n",
    "ds4sscc_pm_score_offboarding_process = [1,2,1]\n",
    "ds4sscc_pm_score_compliance_alignment = [3,3,4]\n",
    "ds4sscc_pm_score_transaction_facilitation = [4,4]\n",
    "ds4sscc_pm_score_stakeholder_engagement = [4,3]\n",
    "\n",
    "ds4sscc_score_pm = sum([ sum(ds4sscc_pm_score_roles_responsibilities)/2, \n",
    "                                sum(ds4sscc_pm_score_onboarding_process)/3,\n",
    "                                sum(ds4sscc_pm_score_offboarding_process)/3,\n",
    "                                sum(ds4sscc_pm_score_compliance_alignment)/3,\n",
    "                                sum(ds4sscc_pm_score_transaction_facilitation)/3,\n",
    "                                sum(ds4sscc_pm_score_stakeholder_engagement)/2\n",
    "                            ])/6\n",
    "\n",
    "\n",
    "# Regulatory Compliance\n",
    "\n",
    "ds4sscc_rc_score_triggers = [2,3]\n",
    "ds4sscc_rc_score_data_space_requirements = [3,3,2]\n",
    "ds4sscc_rc_score_additional = [2,1,1]\n",
    "ds4sscc_rc_score_tools = [1,1,1]\n",
    "ds4sscc_rc_score_flowcharts = [1]\n",
    "ds4sscc_rc_score_governance_authority = [3,2,2]\n",
    "ds4sscc_rc_score_participant_rights = [3,3]\n",
    "\n",
    "ds4sscc_score_rc = sum([ sum(ds4sscc_rc_score_triggers)/2, \n",
    "                                sum(ds4sscc_rc_score_data_space_requirements)/3,\n",
    "                                sum(ds4sscc_rc_score_additional)/3,\n",
    "                                sum(ds4sscc_rc_score_tools)/3,\n",
    "                                sum(ds4sscc_rc_score_flowcharts)/1,\n",
    "                                sum(ds4sscc_rc_score_governance_authority)/3,\n",
    "                                sum(ds4sscc_rc_score_participant_rights)/2\n",
    "                            ])/7\n",
    "\n",
    "\n",
    "# Contractual Framework\n",
    "\n",
    "ds4sscc_cf_score_institutional_agreements = [3,3,2,3]\n",
    "ds4sscc_cf_score_data_sharing_agreements = [2,2,3,1]\n",
    "ds4sscc_cf_score_service_agreements = [3,1,2,3]\n",
    "ds4sscc_cf_score_legal_interoperability = [2,1,3]\n",
    "ds4sscc_cf_score_regulatory_compliance = [4,2]\n",
    "\n",
    "ds4sscc_score_cf = sum([ sum(ds4sscc_cf_score_institutional_agreements)/4, \n",
    "                                sum(ds4sscc_cf_score_data_sharing_agreements)/4,\n",
    "                                sum(ds4sscc_cf_score_service_agreements)/4,\n",
    "                                sum(ds4sscc_cf_score_legal_interoperability)/3,\n",
    "                                sum(ds4sscc_cf_score_regulatory_compliance)/4\n",
    "                            ])/5\n",
    "\n",
    "ds4sscc_scores = [ds4sscc_score_bm, ds4sscc_score_ucd, ds4sscc_score_dso, ds4sscc_score_io, ds4sscc_score_ofga, ds4sscc_score_pm, ds4sscc_score_rc, ds4sscc_score_cf]\n"
   ]
  },
  {
   "cell_type": "markdown",
   "metadata": {},
   "source": [
    "# CEEDS"
   ]
  },
  {
   "cell_type": "code",
   "execution_count": 5,
   "metadata": {},
   "outputs": [],
   "source": [
    "# Business Model\n",
    "\n",
    "ceeds_bm_score_value_proposition = [4,2,4,3]\n",
    "ceeds_bm_score_multi_sidedness = [3,3,2,4]\n",
    "ceeds_bm_score_collaborative_bm = [2,3,3]\n",
    "ceeds_bm_score_governance_authority = [4,3,2]\n",
    "ceeds_bm_score_dynamic_capabilities = [2,2,3]\n",
    "ceeds_bm_score_revenue_cost = [1,1,1]\n",
    "\n",
    "ceeds_score_bm = sum([ sum(ceeds_bm_score_value_proposition)/4, \n",
    "                                sum(ceeds_bm_score_multi_sidedness)/4,\n",
    "                                sum(ceeds_bm_score_collaborative_bm)/3,\n",
    "                                sum(ceeds_bm_score_governance_authority)/3,\n",
    "                                sum(ceeds_bm_score_dynamic_capabilities)/3,\n",
    "                                sum(ceeds_bm_score_revenue_cost)/3\n",
    "                            ])/6\n",
    "\n",
    "\n",
    "\n",
    "\n",
    "# Use Case Development\n",
    "\n",
    "ceeds_ucd_score_use_case_identification = [3,4,1,3]\n",
    "ceeds_ucd_score_use_case_scenario_refinement = [3,4,4,4]\n",
    "ceeds_ucd_score_use_case_implementation = [4,4,3,2]\n",
    "ceeds_ucd_score_continuous_improvement = [1,1,3,1]\n",
    "ceeds_ucd_score_use_case_orchestration = [2,1,2,2]\n",
    "\n",
    "ceeds_score_ucd = sum([ sum(ceeds_ucd_score_use_case_scenario_refinement)/4, \n",
    "                                sum(ceeds_ucd_score_use_case_scenario_refinement)/4,\n",
    "                                sum(ceeds_ucd_score_use_case_implementation)/4,\n",
    "                                sum(ceeds_ucd_score_continuous_improvement)/4,\n",
    "                                sum(ceeds_ucd_score_use_case_orchestration)/4\n",
    "                            ])/5\n",
    "\n",
    "\n",
    "\n",
    "# Data Space Offering\n",
    "\n",
    "ceeds_dso_score_data_products = [4,3,2,4,4]\n",
    "ceeds_dso_score_services = [4,3,3]\n",
    "ceeds_dso_score_offering_strategy = [3,3,2]\n",
    "ceeds_dso_score_governance_rules = [4,4,3]\n",
    "ceeds_dso_score_participant_support = [3,3,2,3]\n",
    "\n",
    "ceeds_score_dso = sum([ sum(ceeds_dso_score_data_products)/5, \n",
    "                                sum(ceeds_dso_score_services)/3,\n",
    "                                sum(ceeds_dso_score_offering_strategy)/4,\n",
    "                                sum(ceeds_dso_score_governance_rules)/4,\n",
    "                                sum(ceeds_dso_score_participant_support)/4\n",
    "                            ])/5\n",
    "\n",
    "\n",
    "\n",
    "# Intermediaries and Operators\n",
    "\n",
    "ceeds_io_score_service_provision = [3,2,3]\n",
    "ceeds_io_score_governance_framework_integration = [3,2,2]\n",
    "ceeds_io_score_business_revenue = [2,3]\n",
    "ceeds_io_score_interoperability_collaboration = [4,3]\n",
    "ceeds_io_score_risk_management = [3,4]\n",
    "ceeds_io_score_regulatory_compliance = [4,3]\n",
    "ceeds_io_score_service_provider_responsibilities = [3,3,2,1,1]\n",
    "\n",
    "ceeds_score_io = sum([ sum(ceeds_io_score_service_provision)/3, \n",
    "                                sum(ceeds_io_score_governance_framework_integration)/3,\n",
    "                                sum(ceeds_io_score_business_revenue)/2,\n",
    "                                sum(ceeds_io_score_interoperability_collaboration)/3,\n",
    "                                sum(ceeds_io_score_risk_management)/2,\n",
    "                                sum(ceeds_io_score_regulatory_compliance)/2,\n",
    "                                sum(ceeds_io_score_service_provider_responsibilities)/5\n",
    "                            ])/7\n",
    "\n",
    "\n",
    "\n",
    "# Organizational Form and Governance Authority\n",
    "\n",
    "ceeds_ofga_score_organizational_form_decision = [3,3,2]\n",
    "ceeds_ofga_score_governance_authority = [2,2,1,4,1,2,2]\n",
    "ceeds_ofga_score_governance_framework_development = [4,4,5,3,3,2,4,4,1,4]\n",
    "\n",
    "ceeds_score_ofga = sum([\n",
    "                        sum(ceeds_ofga_score_organizational_form_decision)/3,\n",
    "                        sum(ceeds_ofga_score_governance_authority)/7,\n",
    "                        sum(ceeds_ofga_score_governance_framework_development)/10\n",
    "                    ])/3\n",
    "\n",
    "\n",
    "# Participation Management\n",
    "\n",
    "ceeds_pm_score_roles_responsibilities = [4,3]\n",
    "ceeds_pm_score_onboarding_process = [3,3,4]\n",
    "ceeds_pm_score_offboarding_process = [1,1,1]\n",
    "ceeds_pm_score_compliance_alignment = [4,2,4]\n",
    "ceeds_pm_score_transaction_facilitation = [5,4]\n",
    "ceeds_pm_score_stakeholder_engagement = [4,2]\n",
    "\n",
    "ceeds_score_pm = sum([ sum(ceeds_pm_score_roles_responsibilities)/2, \n",
    "                                sum(ceeds_pm_score_onboarding_process)/3,\n",
    "                                sum(ceeds_pm_score_offboarding_process)/3,\n",
    "                                sum(ceeds_pm_score_compliance_alignment)/3,\n",
    "                                sum(ceeds_pm_score_transaction_facilitation)/3,\n",
    "                                sum(ceeds_pm_score_stakeholder_engagement)/2\n",
    "                            ])/6\n",
    "\n",
    "\n",
    "# Regulatory Compliance\n",
    "\n",
    "ceeds_rc_score_triggers = [3,4]\n",
    "ceeds_rc_score_data_space_requirements = [4,4,4]\n",
    "ceeds_rc_score_additional = [3,3,4]\n",
    "ceeds_rc_score_tools = [3,2,3]\n",
    "ceeds_rc_score_flowcharts = [1]\n",
    "ceeds_rc_score_governance_authority = [4,2,3]\n",
    "ceeds_rc_score_participant_rights = [3,3]\n",
    "\n",
    "ceeds_score_rc = sum([ sum(ceeds_rc_score_triggers)/2, \n",
    "                                sum(ceeds_rc_score_data_space_requirements)/3,\n",
    "                                sum(ceeds_rc_score_additional)/3,\n",
    "                                sum(ceeds_rc_score_tools)/3,\n",
    "                                sum(ceeds_rc_score_flowcharts)/1,\n",
    "                                sum(ceeds_rc_score_governance_authority)/3,\n",
    "                                sum(ceeds_rc_score_participant_rights)/2\n",
    "                            ])/7\n",
    "\n",
    "\n",
    "# Contractual Framework\n",
    "\n",
    "ceeds_cf_score_institutional_agreements = [3,3,2,3]\n",
    "ceeds_cf_score_data_sharing_agreements = [4,3,4,2]\n",
    "ceeds_cf_score_service_agreements = [2,3,3,4]\n",
    "ceeds_cf_score_legal_interoperability = [2,2,4]\n",
    "ceeds_cf_score_regulatory_compliance = [4,3,3,2]\n",
    "\n",
    "ceeds_score_cf = sum([ sum(ceeds_cf_score_institutional_agreements)/4, \n",
    "                                sum(ceeds_cf_score_data_sharing_agreements)/4,\n",
    "                                sum(ceeds_cf_score_service_agreements)/4,\n",
    "                                sum(ceeds_cf_score_legal_interoperability)/3,\n",
    "                                sum(ceeds_cf_score_regulatory_compliance)/4\n",
    "                            ])/5\n",
    "\n",
    "ceeds_scores = [ceeds_score_bm, ceeds_score_ucd, ceeds_score_dso, ceeds_score_io, ceeds_score_ofga, ceeds_score_pm, ceeds_score_rc, ceeds_score_cf]\n"
   ]
  },
  {
   "cell_type": "markdown",
   "metadata": {},
   "source": [
    "# Green Deal Data Space"
   ]
  },
  {
   "cell_type": "code",
   "execution_count": 6,
   "metadata": {},
   "outputs": [],
   "source": [
    "# Business Model\n",
    "\n",
    "gdds_bm_score_value_proposition = [3,2,3,3]\n",
    "gdds_bm_score_multi_sidedness = [4,3,3,3]\n",
    "gdds_bm_score_collaborative_bm = [2,3,3]\n",
    "gdds_bm_score_governance_authority = [2,2,2]\n",
    "gdds_bm_score_dynamic_capabilities = [3,2,3]\n",
    "gdds_bm_score_revenue_cost = [3,3,2]\n",
    "\n",
    "gdds_score_bm = sum([ sum(gdds_bm_score_value_proposition)/4, \n",
    "                                sum(gdds_bm_score_multi_sidedness)/4,\n",
    "                                sum(gdds_bm_score_collaborative_bm)/3,\n",
    "                                sum(gdds_bm_score_governance_authority)/3,\n",
    "                                sum(gdds_bm_score_dynamic_capabilities)/3,\n",
    "                                sum(gdds_bm_score_revenue_cost)/3\n",
    "                            ])/6\n",
    "\n",
    "\n",
    "\n",
    "\n",
    "# Use Case Development\n",
    "\n",
    "gdds_ucd_score_use_case_identification = [3,5,2,3]\n",
    "gdds_ucd_score_use_case_scenario_refinement = [2,5,4,4]\n",
    "gdds_ucd_score_use_case_implementation = [4,3,4,4]\n",
    "gdds_ucd_score_continuous_improvement = [2,2,5,1]\n",
    "gdds_ucd_score_use_case_orchestration = [2,1,2,3]\n",
    "\n",
    "gdds_score_ucd = sum([ sum(gdds_ucd_score_use_case_scenario_refinement)/4, \n",
    "                                sum(gdds_ucd_score_use_case_scenario_refinement)/4,\n",
    "                                sum(gdds_ucd_score_use_case_implementation)/4,\n",
    "                                sum(gdds_ucd_score_continuous_improvement)/4,\n",
    "                                sum(gdds_ucd_score_use_case_orchestration)/4\n",
    "                            ])/5\n",
    "\n",
    "\n",
    "\n",
    "# Data Space Offering\n",
    "\n",
    "gdds_dso_score_data_products = [4,3,3,4,4]\n",
    "gdds_dso_score_services = [3,3,3]\n",
    "gdds_dso_score_offering_strategy = [4,1,4]\n",
    "gdds_dso_score_governance_rules = [3,3,3]\n",
    "gdds_dso_score_participant_support = [3,3,3,3]\n",
    "\n",
    "gdds_score_dso = sum([ sum(gdds_dso_score_data_products)/5, \n",
    "                                sum(gdds_dso_score_services)/3,\n",
    "                                sum(gdds_dso_score_offering_strategy)/4,\n",
    "                                sum(gdds_dso_score_governance_rules)/4,\n",
    "                                sum(gdds_dso_score_participant_support)/4\n",
    "                            ])/5\n",
    "\n",
    "\n",
    "\n",
    "# Intermediaries and Operators\n",
    "\n",
    "gdds_io_score_service_provision = [3,3,3]\n",
    "gdds_io_score_governance_framework_integration = [3,2,2]\n",
    "gdds_io_score_business_revenue = [2,2]\n",
    "gdds_io_score_interoperability_collaboration = [2,2]\n",
    "gdds_io_score_risk_management = [3,2,2]\n",
    "gdds_io_score_regulatory_compliance = [2,2]\n",
    "gdds_io_score_service_provider_responsibilities = [4,1,1,1,2]\n",
    "\n",
    "gdds_score_io = sum([ sum(gdds_io_score_service_provision)/3, \n",
    "                                sum(gdds_io_score_governance_framework_integration)/3,\n",
    "                                sum(gdds_io_score_business_revenue)/2,\n",
    "                                sum(gdds_io_score_interoperability_collaboration)/3,\n",
    "                                sum(gdds_io_score_risk_management)/2,\n",
    "                                sum(gdds_io_score_regulatory_compliance)/2,\n",
    "                                sum(gdds_io_score_service_provider_responsibilities)/5\n",
    "                            ])/7\n",
    "\n",
    "\n",
    "\n",
    "# Organizational Form and Governance Authority\n",
    "\n",
    "gdds_ofga_score_organizational_form_decision = [4,2,2]\n",
    "gdds_ofga_score_governance_authority = [3,2,2,1,2,1,1]\n",
    "gdds_ofga_score_governance_framework_development = [2,1,3,2,2,1,3,2,1,3]\n",
    "\n",
    "gdds_score_ofga = sum([\n",
    "                        sum(gdds_ofga_score_organizational_form_decision)/3,\n",
    "                        sum(gdds_ofga_score_governance_authority)/7,\n",
    "                        sum(gdds_ofga_score_governance_framework_development)/10\n",
    "                    ])/3\n",
    "\n",
    "\n",
    "# Participation Management\n",
    "\n",
    "gdds_pm_score_roles_responsibilities = [4,3]\n",
    "gdds_pm_score_onboarding_process = [3,2,4]\n",
    "gdds_pm_score_offboarding_process = [1,1,1]\n",
    "gdds_pm_score_compliance_alignment = [2,2,4]\n",
    "gdds_pm_score_transaction_facilitation = [4,3]\n",
    "gdds_pm_score_stakeholder_engagement = [3,3]\n",
    "\n",
    "gdds_score_pm = sum([ sum(gdds_pm_score_roles_responsibilities)/2, \n",
    "                                sum(gdds_pm_score_onboarding_process)/3,\n",
    "                                sum(gdds_pm_score_offboarding_process)/3,\n",
    "                                sum(gdds_pm_score_compliance_alignment)/3,\n",
    "                                sum(gdds_pm_score_transaction_facilitation)/3,\n",
    "                                sum(gdds_pm_score_stakeholder_engagement)/2\n",
    "                            ])/6\n",
    "\n",
    "\n",
    "# Regulatory Compliance\n",
    "\n",
    "gdds_rc_score_triggers = [4,4]\n",
    "gdds_rc_score_data_space_requirements = [3,3,3]\n",
    "gdds_rc_score_additional = [2,2,2]\n",
    "gdds_rc_score_tools = [1,1,1]\n",
    "gdds_rc_score_flowcharts = [1]\n",
    "gdds_rc_score_governance_authority = [3,1,3]\n",
    "gdds_rc_score_participant_rights = [2,2]\n",
    "\n",
    "gdds_score_rc = sum([ sum(gdds_rc_score_triggers)/2, \n",
    "                                sum(gdds_rc_score_data_space_requirements)/3,\n",
    "                                sum(gdds_rc_score_additional)/3,\n",
    "                                sum(gdds_rc_score_tools)/3,\n",
    "                                sum(gdds_rc_score_flowcharts)/1,\n",
    "                                sum(gdds_rc_score_governance_authority)/3,\n",
    "                                sum(gdds_rc_score_participant_rights)/2\n",
    "                            ])/7\n",
    "\n",
    "\n",
    "# Contractual Framework\n",
    "\n",
    "gdds_cf_score_institutional_agreements = [3,4,2,3]\n",
    "gdds_cf_score_data_sharing_agreements = [2,2,4,1]\n",
    "gdds_cf_score_service_agreements = [2,3,3,1]\n",
    "gdds_cf_score_legal_interoperability = [4,1,4]\n",
    "gdds_cf_score_regulatory_compliance = [5,3,3,1]\n",
    "\n",
    "gdds_score_cf = sum([ sum(gdds_cf_score_institutional_agreements)/4, \n",
    "                                sum(gdds_cf_score_data_sharing_agreements)/4,\n",
    "                                sum(gdds_cf_score_service_agreements)/4,\n",
    "                                sum(gdds_cf_score_legal_interoperability)/3,\n",
    "                                sum(gdds_cf_score_regulatory_compliance)/4\n",
    "                            ])/5\n",
    "\n",
    "gdds_scores = [gdds_score_bm, gdds_score_ucd, gdds_score_dso, gdds_score_io, gdds_score_ofga, gdds_score_pm, gdds_score_rc, gdds_score_cf]\n"
   ]
  },
  {
   "cell_type": "markdown",
   "metadata": {},
   "source": [
    "# Radar Plots"
   ]
  },
  {
   "cell_type": "code",
   "execution_count": 7,
   "metadata": {},
   "outputs": [
    {
     "data": {
      "application/vnd.plotly.v1+json": {
       "config": {
        "plotlyServerURL": "https://plot.ly"
       },
       "data": [
        {
         "fill": "toself",
         "hovertemplate": "cx_r=%{r}<br>theta=%{theta}<extra></extra>",
         "legendgroup": "",
         "line": {
          "color": "#636efa",
          "dash": "solid"
         },
         "marker": {
          "symbol": "circle"
         },
         "mode": "lines",
         "name": "",
         "r": {
          "bdata": "VVVVVVVVC0DNzMzMzMwMQD0K16NwPQ5AupRLuZRLCUDNzMzMzMwQQBzHcRzHcQZA53me53meC0BWVVVVVVUPQFVVVVVVVQtA",
          "dtype": "f8"
         },
         "showlegend": false,
         "subplot": "polar",
         "theta": [
          "Business Model",
          "Use Case Development",
          "Data Space Offering",
          "Intermediaries and Operators",
          "Participation Management",
          "Organizational Form and Governance Authority",
          "Regulatory Compliance",
          "Contractual Framework",
          "Business Model"
         ],
         "type": "scatterpolar"
        }
       ],
       "layout": {
        "legend": {
         "tracegroupgap": 0
        },
        "margin": {
         "t": 60
        },
        "polar": {
         "angularaxis": {
          "direction": "clockwise",
          "rotation": 90
         },
         "domain": {
          "x": [
           0,
           1
          ],
          "y": [
           0,
           1
          ]
         },
         "radialaxis": {
          "range": [
           0,
           5
          ],
          "tickmode": "array",
          "tickvals": [
           1,
           2,
           3,
           4,
           5
          ]
         }
        },
        "template": {
         "data": {
          "bar": [
           {
            "error_x": {
             "color": "#2a3f5f"
            },
            "error_y": {
             "color": "#2a3f5f"
            },
            "marker": {
             "line": {
              "color": "#E5ECF6",
              "width": 0.5
             },
             "pattern": {
              "fillmode": "overlay",
              "size": 10,
              "solidity": 0.2
             }
            },
            "type": "bar"
           }
          ],
          "barpolar": [
           {
            "marker": {
             "line": {
              "color": "#E5ECF6",
              "width": 0.5
             },
             "pattern": {
              "fillmode": "overlay",
              "size": 10,
              "solidity": 0.2
             }
            },
            "type": "barpolar"
           }
          ],
          "carpet": [
           {
            "aaxis": {
             "endlinecolor": "#2a3f5f",
             "gridcolor": "white",
             "linecolor": "white",
             "minorgridcolor": "white",
             "startlinecolor": "#2a3f5f"
            },
            "baxis": {
             "endlinecolor": "#2a3f5f",
             "gridcolor": "white",
             "linecolor": "white",
             "minorgridcolor": "white",
             "startlinecolor": "#2a3f5f"
            },
            "type": "carpet"
           }
          ],
          "choropleth": [
           {
            "colorbar": {
             "outlinewidth": 0,
             "ticks": ""
            },
            "type": "choropleth"
           }
          ],
          "contour": [
           {
            "colorbar": {
             "outlinewidth": 0,
             "ticks": ""
            },
            "colorscale": [
             [
              0,
              "#0d0887"
             ],
             [
              0.1111111111111111,
              "#46039f"
             ],
             [
              0.2222222222222222,
              "#7201a8"
             ],
             [
              0.3333333333333333,
              "#9c179e"
             ],
             [
              0.4444444444444444,
              "#bd3786"
             ],
             [
              0.5555555555555556,
              "#d8576b"
             ],
             [
              0.6666666666666666,
              "#ed7953"
             ],
             [
              0.7777777777777778,
              "#fb9f3a"
             ],
             [
              0.8888888888888888,
              "#fdca26"
             ],
             [
              1,
              "#f0f921"
             ]
            ],
            "type": "contour"
           }
          ],
          "contourcarpet": [
           {
            "colorbar": {
             "outlinewidth": 0,
             "ticks": ""
            },
            "type": "contourcarpet"
           }
          ],
          "heatmap": [
           {
            "colorbar": {
             "outlinewidth": 0,
             "ticks": ""
            },
            "colorscale": [
             [
              0,
              "#0d0887"
             ],
             [
              0.1111111111111111,
              "#46039f"
             ],
             [
              0.2222222222222222,
              "#7201a8"
             ],
             [
              0.3333333333333333,
              "#9c179e"
             ],
             [
              0.4444444444444444,
              "#bd3786"
             ],
             [
              0.5555555555555556,
              "#d8576b"
             ],
             [
              0.6666666666666666,
              "#ed7953"
             ],
             [
              0.7777777777777778,
              "#fb9f3a"
             ],
             [
              0.8888888888888888,
              "#fdca26"
             ],
             [
              1,
              "#f0f921"
             ]
            ],
            "type": "heatmap"
           }
          ],
          "histogram": [
           {
            "marker": {
             "pattern": {
              "fillmode": "overlay",
              "size": 10,
              "solidity": 0.2
             }
            },
            "type": "histogram"
           }
          ],
          "histogram2d": [
           {
            "colorbar": {
             "outlinewidth": 0,
             "ticks": ""
            },
            "colorscale": [
             [
              0,
              "#0d0887"
             ],
             [
              0.1111111111111111,
              "#46039f"
             ],
             [
              0.2222222222222222,
              "#7201a8"
             ],
             [
              0.3333333333333333,
              "#9c179e"
             ],
             [
              0.4444444444444444,
              "#bd3786"
             ],
             [
              0.5555555555555556,
              "#d8576b"
             ],
             [
              0.6666666666666666,
              "#ed7953"
             ],
             [
              0.7777777777777778,
              "#fb9f3a"
             ],
             [
              0.8888888888888888,
              "#fdca26"
             ],
             [
              1,
              "#f0f921"
             ]
            ],
            "type": "histogram2d"
           }
          ],
          "histogram2dcontour": [
           {
            "colorbar": {
             "outlinewidth": 0,
             "ticks": ""
            },
            "colorscale": [
             [
              0,
              "#0d0887"
             ],
             [
              0.1111111111111111,
              "#46039f"
             ],
             [
              0.2222222222222222,
              "#7201a8"
             ],
             [
              0.3333333333333333,
              "#9c179e"
             ],
             [
              0.4444444444444444,
              "#bd3786"
             ],
             [
              0.5555555555555556,
              "#d8576b"
             ],
             [
              0.6666666666666666,
              "#ed7953"
             ],
             [
              0.7777777777777778,
              "#fb9f3a"
             ],
             [
              0.8888888888888888,
              "#fdca26"
             ],
             [
              1,
              "#f0f921"
             ]
            ],
            "type": "histogram2dcontour"
           }
          ],
          "mesh3d": [
           {
            "colorbar": {
             "outlinewidth": 0,
             "ticks": ""
            },
            "type": "mesh3d"
           }
          ],
          "parcoords": [
           {
            "line": {
             "colorbar": {
              "outlinewidth": 0,
              "ticks": ""
             }
            },
            "type": "parcoords"
           }
          ],
          "pie": [
           {
            "automargin": true,
            "type": "pie"
           }
          ],
          "scatter": [
           {
            "fillpattern": {
             "fillmode": "overlay",
             "size": 10,
             "solidity": 0.2
            },
            "type": "scatter"
           }
          ],
          "scatter3d": [
           {
            "line": {
             "colorbar": {
              "outlinewidth": 0,
              "ticks": ""
             }
            },
            "marker": {
             "colorbar": {
              "outlinewidth": 0,
              "ticks": ""
             }
            },
            "type": "scatter3d"
           }
          ],
          "scattercarpet": [
           {
            "marker": {
             "colorbar": {
              "outlinewidth": 0,
              "ticks": ""
             }
            },
            "type": "scattercarpet"
           }
          ],
          "scattergeo": [
           {
            "marker": {
             "colorbar": {
              "outlinewidth": 0,
              "ticks": ""
             }
            },
            "type": "scattergeo"
           }
          ],
          "scattergl": [
           {
            "marker": {
             "colorbar": {
              "outlinewidth": 0,
              "ticks": ""
             }
            },
            "type": "scattergl"
           }
          ],
          "scattermap": [
           {
            "marker": {
             "colorbar": {
              "outlinewidth": 0,
              "ticks": ""
             }
            },
            "type": "scattermap"
           }
          ],
          "scattermapbox": [
           {
            "marker": {
             "colorbar": {
              "outlinewidth": 0,
              "ticks": ""
             }
            },
            "type": "scattermapbox"
           }
          ],
          "scatterpolar": [
           {
            "marker": {
             "colorbar": {
              "outlinewidth": 0,
              "ticks": ""
             }
            },
            "type": "scatterpolar"
           }
          ],
          "scatterpolargl": [
           {
            "marker": {
             "colorbar": {
              "outlinewidth": 0,
              "ticks": ""
             }
            },
            "type": "scatterpolargl"
           }
          ],
          "scatterternary": [
           {
            "marker": {
             "colorbar": {
              "outlinewidth": 0,
              "ticks": ""
             }
            },
            "type": "scatterternary"
           }
          ],
          "surface": [
           {
            "colorbar": {
             "outlinewidth": 0,
             "ticks": ""
            },
            "colorscale": [
             [
              0,
              "#0d0887"
             ],
             [
              0.1111111111111111,
              "#46039f"
             ],
             [
              0.2222222222222222,
              "#7201a8"
             ],
             [
              0.3333333333333333,
              "#9c179e"
             ],
             [
              0.4444444444444444,
              "#bd3786"
             ],
             [
              0.5555555555555556,
              "#d8576b"
             ],
             [
              0.6666666666666666,
              "#ed7953"
             ],
             [
              0.7777777777777778,
              "#fb9f3a"
             ],
             [
              0.8888888888888888,
              "#fdca26"
             ],
             [
              1,
              "#f0f921"
             ]
            ],
            "type": "surface"
           }
          ],
          "table": [
           {
            "cells": {
             "fill": {
              "color": "#EBF0F8"
             },
             "line": {
              "color": "white"
             }
            },
            "header": {
             "fill": {
              "color": "#C8D4E3"
             },
             "line": {
              "color": "white"
             }
            },
            "type": "table"
           }
          ]
         },
         "layout": {
          "annotationdefaults": {
           "arrowcolor": "#2a3f5f",
           "arrowhead": 0,
           "arrowwidth": 1
          },
          "autotypenumbers": "strict",
          "coloraxis": {
           "colorbar": {
            "outlinewidth": 0,
            "ticks": ""
           }
          },
          "colorscale": {
           "diverging": [
            [
             0,
             "#8e0152"
            ],
            [
             0.1,
             "#c51b7d"
            ],
            [
             0.2,
             "#de77ae"
            ],
            [
             0.3,
             "#f1b6da"
            ],
            [
             0.4,
             "#fde0ef"
            ],
            [
             0.5,
             "#f7f7f7"
            ],
            [
             0.6,
             "#e6f5d0"
            ],
            [
             0.7,
             "#b8e186"
            ],
            [
             0.8,
             "#7fbc41"
            ],
            [
             0.9,
             "#4d9221"
            ],
            [
             1,
             "#276419"
            ]
           ],
           "sequential": [
            [
             0,
             "#0d0887"
            ],
            [
             0.1111111111111111,
             "#46039f"
            ],
            [
             0.2222222222222222,
             "#7201a8"
            ],
            [
             0.3333333333333333,
             "#9c179e"
            ],
            [
             0.4444444444444444,
             "#bd3786"
            ],
            [
             0.5555555555555556,
             "#d8576b"
            ],
            [
             0.6666666666666666,
             "#ed7953"
            ],
            [
             0.7777777777777778,
             "#fb9f3a"
            ],
            [
             0.8888888888888888,
             "#fdca26"
            ],
            [
             1,
             "#f0f921"
            ]
           ],
           "sequentialminus": [
            [
             0,
             "#0d0887"
            ],
            [
             0.1111111111111111,
             "#46039f"
            ],
            [
             0.2222222222222222,
             "#7201a8"
            ],
            [
             0.3333333333333333,
             "#9c179e"
            ],
            [
             0.4444444444444444,
             "#bd3786"
            ],
            [
             0.5555555555555556,
             "#d8576b"
            ],
            [
             0.6666666666666666,
             "#ed7953"
            ],
            [
             0.7777777777777778,
             "#fb9f3a"
            ],
            [
             0.8888888888888888,
             "#fdca26"
            ],
            [
             1,
             "#f0f921"
            ]
           ]
          },
          "colorway": [
           "#636efa",
           "#EF553B",
           "#00cc96",
           "#ab63fa",
           "#FFA15A",
           "#19d3f3",
           "#FF6692",
           "#B6E880",
           "#FF97FF",
           "#FECB52"
          ],
          "font": {
           "color": "#2a3f5f"
          },
          "geo": {
           "bgcolor": "white",
           "lakecolor": "white",
           "landcolor": "#E5ECF6",
           "showlakes": true,
           "showland": true,
           "subunitcolor": "white"
          },
          "hoverlabel": {
           "align": "left"
          },
          "hovermode": "closest",
          "mapbox": {
           "style": "light"
          },
          "paper_bgcolor": "white",
          "plot_bgcolor": "#E5ECF6",
          "polar": {
           "angularaxis": {
            "gridcolor": "white",
            "linecolor": "white",
            "ticks": ""
           },
           "bgcolor": "#E5ECF6",
           "radialaxis": {
            "gridcolor": "white",
            "linecolor": "white",
            "ticks": ""
           }
          },
          "scene": {
           "xaxis": {
            "backgroundcolor": "#E5ECF6",
            "gridcolor": "white",
            "gridwidth": 2,
            "linecolor": "white",
            "showbackground": true,
            "ticks": "",
            "zerolinecolor": "white"
           },
           "yaxis": {
            "backgroundcolor": "#E5ECF6",
            "gridcolor": "white",
            "gridwidth": 2,
            "linecolor": "white",
            "showbackground": true,
            "ticks": "",
            "zerolinecolor": "white"
           },
           "zaxis": {
            "backgroundcolor": "#E5ECF6",
            "gridcolor": "white",
            "gridwidth": 2,
            "linecolor": "white",
            "showbackground": true,
            "ticks": "",
            "zerolinecolor": "white"
           }
          },
          "shapedefaults": {
           "line": {
            "color": "#2a3f5f"
           }
          },
          "ternary": {
           "aaxis": {
            "gridcolor": "white",
            "linecolor": "white",
            "ticks": ""
           },
           "baxis": {
            "gridcolor": "white",
            "linecolor": "white",
            "ticks": ""
           },
           "bgcolor": "#E5ECF6",
           "caxis": {
            "gridcolor": "white",
            "linecolor": "white",
            "ticks": ""
           }
          },
          "title": {
           "x": 0.05
          },
          "xaxis": {
           "automargin": true,
           "gridcolor": "white",
           "linecolor": "white",
           "ticks": "",
           "title": {
            "standoff": 15
           },
           "zerolinecolor": "white",
           "zerolinewidth": 2
          },
          "yaxis": {
           "automargin": true,
           "gridcolor": "white",
           "linecolor": "white",
           "ticks": "",
           "title": {
            "standoff": 15
           },
           "zerolinecolor": "white",
           "zerolinewidth": 2
          }
         }
        }
       }
      }
     },
     "metadata": {},
     "output_type": "display_data"
    },
    {
     "data": {
      "application/vnd.plotly.v1+json": {
       "config": {
        "plotlyServerURL": "https://plot.ly"
       },
       "data": [
        {
         "fill": "toself",
         "hovertemplate": "ds4sscc_r=%{r}<br>theta=%{theta}<extra></extra>",
         "legendgroup": "",
         "line": {
          "color": "#636efa",
          "dash": "solid"
         },
         "marker": {
          "symbol": "circle"
         },
         "mode": "lines",
         "name": "",
         "r": {
          "bdata": "q6qqqqqqBEAzMzMzMzMFQHPaQKcNdApA/diP/diPBUDohm7ohm4EQMdxHMdxHAVA6Hme53me/z/NzMzMzMwAQKuqqqqqqgRA",
          "dtype": "f8"
         },
         "showlegend": false,
         "subplot": "polar",
         "theta": [
          "Business Model",
          "Use Case Development",
          "Data Space Offering",
          "Intermediaries and Operators",
          "Participation Management",
          "Organizational Form and Governance Authority",
          "Regulatory Compliance",
          "Contractual Framework",
          "Business Model"
         ],
         "type": "scatterpolar"
        }
       ],
       "layout": {
        "legend": {
         "tracegroupgap": 0
        },
        "margin": {
         "t": 60
        },
        "polar": {
         "angularaxis": {
          "direction": "clockwise",
          "rotation": 90
         },
         "domain": {
          "x": [
           0,
           1
          ],
          "y": [
           0,
           1
          ]
         },
         "radialaxis": {
          "range": [
           0,
           5
          ],
          "tickmode": "array",
          "tickvals": [
           1,
           2,
           3,
           4,
           5
          ]
         }
        },
        "template": {
         "data": {
          "bar": [
           {
            "error_x": {
             "color": "#2a3f5f"
            },
            "error_y": {
             "color": "#2a3f5f"
            },
            "marker": {
             "line": {
              "color": "#E5ECF6",
              "width": 0.5
             },
             "pattern": {
              "fillmode": "overlay",
              "size": 10,
              "solidity": 0.2
             }
            },
            "type": "bar"
           }
          ],
          "barpolar": [
           {
            "marker": {
             "line": {
              "color": "#E5ECF6",
              "width": 0.5
             },
             "pattern": {
              "fillmode": "overlay",
              "size": 10,
              "solidity": 0.2
             }
            },
            "type": "barpolar"
           }
          ],
          "carpet": [
           {
            "aaxis": {
             "endlinecolor": "#2a3f5f",
             "gridcolor": "white",
             "linecolor": "white",
             "minorgridcolor": "white",
             "startlinecolor": "#2a3f5f"
            },
            "baxis": {
             "endlinecolor": "#2a3f5f",
             "gridcolor": "white",
             "linecolor": "white",
             "minorgridcolor": "white",
             "startlinecolor": "#2a3f5f"
            },
            "type": "carpet"
           }
          ],
          "choropleth": [
           {
            "colorbar": {
             "outlinewidth": 0,
             "ticks": ""
            },
            "type": "choropleth"
           }
          ],
          "contour": [
           {
            "colorbar": {
             "outlinewidth": 0,
             "ticks": ""
            },
            "colorscale": [
             [
              0,
              "#0d0887"
             ],
             [
              0.1111111111111111,
              "#46039f"
             ],
             [
              0.2222222222222222,
              "#7201a8"
             ],
             [
              0.3333333333333333,
              "#9c179e"
             ],
             [
              0.4444444444444444,
              "#bd3786"
             ],
             [
              0.5555555555555556,
              "#d8576b"
             ],
             [
              0.6666666666666666,
              "#ed7953"
             ],
             [
              0.7777777777777778,
              "#fb9f3a"
             ],
             [
              0.8888888888888888,
              "#fdca26"
             ],
             [
              1,
              "#f0f921"
             ]
            ],
            "type": "contour"
           }
          ],
          "contourcarpet": [
           {
            "colorbar": {
             "outlinewidth": 0,
             "ticks": ""
            },
            "type": "contourcarpet"
           }
          ],
          "heatmap": [
           {
            "colorbar": {
             "outlinewidth": 0,
             "ticks": ""
            },
            "colorscale": [
             [
              0,
              "#0d0887"
             ],
             [
              0.1111111111111111,
              "#46039f"
             ],
             [
              0.2222222222222222,
              "#7201a8"
             ],
             [
              0.3333333333333333,
              "#9c179e"
             ],
             [
              0.4444444444444444,
              "#bd3786"
             ],
             [
              0.5555555555555556,
              "#d8576b"
             ],
             [
              0.6666666666666666,
              "#ed7953"
             ],
             [
              0.7777777777777778,
              "#fb9f3a"
             ],
             [
              0.8888888888888888,
              "#fdca26"
             ],
             [
              1,
              "#f0f921"
             ]
            ],
            "type": "heatmap"
           }
          ],
          "histogram": [
           {
            "marker": {
             "pattern": {
              "fillmode": "overlay",
              "size": 10,
              "solidity": 0.2
             }
            },
            "type": "histogram"
           }
          ],
          "histogram2d": [
           {
            "colorbar": {
             "outlinewidth": 0,
             "ticks": ""
            },
            "colorscale": [
             [
              0,
              "#0d0887"
             ],
             [
              0.1111111111111111,
              "#46039f"
             ],
             [
              0.2222222222222222,
              "#7201a8"
             ],
             [
              0.3333333333333333,
              "#9c179e"
             ],
             [
              0.4444444444444444,
              "#bd3786"
             ],
             [
              0.5555555555555556,
              "#d8576b"
             ],
             [
              0.6666666666666666,
              "#ed7953"
             ],
             [
              0.7777777777777778,
              "#fb9f3a"
             ],
             [
              0.8888888888888888,
              "#fdca26"
             ],
             [
              1,
              "#f0f921"
             ]
            ],
            "type": "histogram2d"
           }
          ],
          "histogram2dcontour": [
           {
            "colorbar": {
             "outlinewidth": 0,
             "ticks": ""
            },
            "colorscale": [
             [
              0,
              "#0d0887"
             ],
             [
              0.1111111111111111,
              "#46039f"
             ],
             [
              0.2222222222222222,
              "#7201a8"
             ],
             [
              0.3333333333333333,
              "#9c179e"
             ],
             [
              0.4444444444444444,
              "#bd3786"
             ],
             [
              0.5555555555555556,
              "#d8576b"
             ],
             [
              0.6666666666666666,
              "#ed7953"
             ],
             [
              0.7777777777777778,
              "#fb9f3a"
             ],
             [
              0.8888888888888888,
              "#fdca26"
             ],
             [
              1,
              "#f0f921"
             ]
            ],
            "type": "histogram2dcontour"
           }
          ],
          "mesh3d": [
           {
            "colorbar": {
             "outlinewidth": 0,
             "ticks": ""
            },
            "type": "mesh3d"
           }
          ],
          "parcoords": [
           {
            "line": {
             "colorbar": {
              "outlinewidth": 0,
              "ticks": ""
             }
            },
            "type": "parcoords"
           }
          ],
          "pie": [
           {
            "automargin": true,
            "type": "pie"
           }
          ],
          "scatter": [
           {
            "fillpattern": {
             "fillmode": "overlay",
             "size": 10,
             "solidity": 0.2
            },
            "type": "scatter"
           }
          ],
          "scatter3d": [
           {
            "line": {
             "colorbar": {
              "outlinewidth": 0,
              "ticks": ""
             }
            },
            "marker": {
             "colorbar": {
              "outlinewidth": 0,
              "ticks": ""
             }
            },
            "type": "scatter3d"
           }
          ],
          "scattercarpet": [
           {
            "marker": {
             "colorbar": {
              "outlinewidth": 0,
              "ticks": ""
             }
            },
            "type": "scattercarpet"
           }
          ],
          "scattergeo": [
           {
            "marker": {
             "colorbar": {
              "outlinewidth": 0,
              "ticks": ""
             }
            },
            "type": "scattergeo"
           }
          ],
          "scattergl": [
           {
            "marker": {
             "colorbar": {
              "outlinewidth": 0,
              "ticks": ""
             }
            },
            "type": "scattergl"
           }
          ],
          "scattermap": [
           {
            "marker": {
             "colorbar": {
              "outlinewidth": 0,
              "ticks": ""
             }
            },
            "type": "scattermap"
           }
          ],
          "scattermapbox": [
           {
            "marker": {
             "colorbar": {
              "outlinewidth": 0,
              "ticks": ""
             }
            },
            "type": "scattermapbox"
           }
          ],
          "scatterpolar": [
           {
            "marker": {
             "colorbar": {
              "outlinewidth": 0,
              "ticks": ""
             }
            },
            "type": "scatterpolar"
           }
          ],
          "scatterpolargl": [
           {
            "marker": {
             "colorbar": {
              "outlinewidth": 0,
              "ticks": ""
             }
            },
            "type": "scatterpolargl"
           }
          ],
          "scatterternary": [
           {
            "marker": {
             "colorbar": {
              "outlinewidth": 0,
              "ticks": ""
             }
            },
            "type": "scatterternary"
           }
          ],
          "surface": [
           {
            "colorbar": {
             "outlinewidth": 0,
             "ticks": ""
            },
            "colorscale": [
             [
              0,
              "#0d0887"
             ],
             [
              0.1111111111111111,
              "#46039f"
             ],
             [
              0.2222222222222222,
              "#7201a8"
             ],
             [
              0.3333333333333333,
              "#9c179e"
             ],
             [
              0.4444444444444444,
              "#bd3786"
             ],
             [
              0.5555555555555556,
              "#d8576b"
             ],
             [
              0.6666666666666666,
              "#ed7953"
             ],
             [
              0.7777777777777778,
              "#fb9f3a"
             ],
             [
              0.8888888888888888,
              "#fdca26"
             ],
             [
              1,
              "#f0f921"
             ]
            ],
            "type": "surface"
           }
          ],
          "table": [
           {
            "cells": {
             "fill": {
              "color": "#EBF0F8"
             },
             "line": {
              "color": "white"
             }
            },
            "header": {
             "fill": {
              "color": "#C8D4E3"
             },
             "line": {
              "color": "white"
             }
            },
            "type": "table"
           }
          ]
         },
         "layout": {
          "annotationdefaults": {
           "arrowcolor": "#2a3f5f",
           "arrowhead": 0,
           "arrowwidth": 1
          },
          "autotypenumbers": "strict",
          "coloraxis": {
           "colorbar": {
            "outlinewidth": 0,
            "ticks": ""
           }
          },
          "colorscale": {
           "diverging": [
            [
             0,
             "#8e0152"
            ],
            [
             0.1,
             "#c51b7d"
            ],
            [
             0.2,
             "#de77ae"
            ],
            [
             0.3,
             "#f1b6da"
            ],
            [
             0.4,
             "#fde0ef"
            ],
            [
             0.5,
             "#f7f7f7"
            ],
            [
             0.6,
             "#e6f5d0"
            ],
            [
             0.7,
             "#b8e186"
            ],
            [
             0.8,
             "#7fbc41"
            ],
            [
             0.9,
             "#4d9221"
            ],
            [
             1,
             "#276419"
            ]
           ],
           "sequential": [
            [
             0,
             "#0d0887"
            ],
            [
             0.1111111111111111,
             "#46039f"
            ],
            [
             0.2222222222222222,
             "#7201a8"
            ],
            [
             0.3333333333333333,
             "#9c179e"
            ],
            [
             0.4444444444444444,
             "#bd3786"
            ],
            [
             0.5555555555555556,
             "#d8576b"
            ],
            [
             0.6666666666666666,
             "#ed7953"
            ],
            [
             0.7777777777777778,
             "#fb9f3a"
            ],
            [
             0.8888888888888888,
             "#fdca26"
            ],
            [
             1,
             "#f0f921"
            ]
           ],
           "sequentialminus": [
            [
             0,
             "#0d0887"
            ],
            [
             0.1111111111111111,
             "#46039f"
            ],
            [
             0.2222222222222222,
             "#7201a8"
            ],
            [
             0.3333333333333333,
             "#9c179e"
            ],
            [
             0.4444444444444444,
             "#bd3786"
            ],
            [
             0.5555555555555556,
             "#d8576b"
            ],
            [
             0.6666666666666666,
             "#ed7953"
            ],
            [
             0.7777777777777778,
             "#fb9f3a"
            ],
            [
             0.8888888888888888,
             "#fdca26"
            ],
            [
             1,
             "#f0f921"
            ]
           ]
          },
          "colorway": [
           "#636efa",
           "#EF553B",
           "#00cc96",
           "#ab63fa",
           "#FFA15A",
           "#19d3f3",
           "#FF6692",
           "#B6E880",
           "#FF97FF",
           "#FECB52"
          ],
          "font": {
           "color": "#2a3f5f"
          },
          "geo": {
           "bgcolor": "white",
           "lakecolor": "white",
           "landcolor": "#E5ECF6",
           "showlakes": true,
           "showland": true,
           "subunitcolor": "white"
          },
          "hoverlabel": {
           "align": "left"
          },
          "hovermode": "closest",
          "mapbox": {
           "style": "light"
          },
          "paper_bgcolor": "white",
          "plot_bgcolor": "#E5ECF6",
          "polar": {
           "angularaxis": {
            "gridcolor": "white",
            "linecolor": "white",
            "ticks": ""
           },
           "bgcolor": "#E5ECF6",
           "radialaxis": {
            "gridcolor": "white",
            "linecolor": "white",
            "ticks": ""
           }
          },
          "scene": {
           "xaxis": {
            "backgroundcolor": "#E5ECF6",
            "gridcolor": "white",
            "gridwidth": 2,
            "linecolor": "white",
            "showbackground": true,
            "ticks": "",
            "zerolinecolor": "white"
           },
           "yaxis": {
            "backgroundcolor": "#E5ECF6",
            "gridcolor": "white",
            "gridwidth": 2,
            "linecolor": "white",
            "showbackground": true,
            "ticks": "",
            "zerolinecolor": "white"
           },
           "zaxis": {
            "backgroundcolor": "#E5ECF6",
            "gridcolor": "white",
            "gridwidth": 2,
            "linecolor": "white",
            "showbackground": true,
            "ticks": "",
            "zerolinecolor": "white"
           }
          },
          "shapedefaults": {
           "line": {
            "color": "#2a3f5f"
           }
          },
          "ternary": {
           "aaxis": {
            "gridcolor": "white",
            "linecolor": "white",
            "ticks": ""
           },
           "baxis": {
            "gridcolor": "white",
            "linecolor": "white",
            "ticks": ""
           },
           "bgcolor": "#E5ECF6",
           "caxis": {
            "gridcolor": "white",
            "linecolor": "white",
            "ticks": ""
           }
          },
          "title": {
           "x": 0.05
          },
          "xaxis": {
           "automargin": true,
           "gridcolor": "white",
           "linecolor": "white",
           "ticks": "",
           "title": {
            "standoff": 15
           },
           "zerolinecolor": "white",
           "zerolinewidth": 2
          },
          "yaxis": {
           "automargin": true,
           "gridcolor": "white",
           "linecolor": "white",
           "ticks": "",
           "title": {
            "standoff": 15
           },
           "zerolinecolor": "white",
           "zerolinewidth": 2
          }
         }
        }
       }
      }
     },
     "metadata": {},
     "output_type": "display_data"
    },
    {
     "data": {
      "application/vnd.plotly.v1+json": {
       "config": {
        "plotlyServerURL": "https://plot.ly"
       },
       "data": [
        {
         "fill": "toself",
         "hovertemplate": "ceeds_r=%{r}<br>theta=%{theta}<extra></extra>",
         "legendgroup": "",
         "line": {
          "color": "#636efa",
          "dash": "solid"
         },
         "marker": {
          "symbol": "circle"
         },
         "mode": "lines",
         "name": "",
         "r": {
          "bdata": "VVVVVVVVBEBmZmZmZmYGQMaSXyz5xQZAYhiGYRiGBUAt2IIt2IIFQDmO4ziO4wZA27Zt27ZtB0B3d3d3d3cHQFVVVVVVVQRA",
          "dtype": "f8"
         },
         "showlegend": false,
         "subplot": "polar",
         "theta": [
          "Business Model",
          "Use Case Development",
          "Data Space Offering",
          "Intermediaries and Operators",
          "Participation Management",
          "Organizational Form and Governance Authority",
          "Regulatory Compliance",
          "Contractual Framework",
          "Business Model"
         ],
         "type": "scatterpolar"
        }
       ],
       "layout": {
        "legend": {
         "tracegroupgap": 0
        },
        "margin": {
         "t": 60
        },
        "polar": {
         "angularaxis": {
          "direction": "clockwise",
          "rotation": 90
         },
         "domain": {
          "x": [
           0,
           1
          ],
          "y": [
           0,
           1
          ]
         },
         "radialaxis": {
          "range": [
           0,
           5
          ],
          "tickmode": "array",
          "tickvals": [
           1,
           2,
           3,
           4,
           5
          ]
         }
        },
        "template": {
         "data": {
          "bar": [
           {
            "error_x": {
             "color": "#2a3f5f"
            },
            "error_y": {
             "color": "#2a3f5f"
            },
            "marker": {
             "line": {
              "color": "#E5ECF6",
              "width": 0.5
             },
             "pattern": {
              "fillmode": "overlay",
              "size": 10,
              "solidity": 0.2
             }
            },
            "type": "bar"
           }
          ],
          "barpolar": [
           {
            "marker": {
             "line": {
              "color": "#E5ECF6",
              "width": 0.5
             },
             "pattern": {
              "fillmode": "overlay",
              "size": 10,
              "solidity": 0.2
             }
            },
            "type": "barpolar"
           }
          ],
          "carpet": [
           {
            "aaxis": {
             "endlinecolor": "#2a3f5f",
             "gridcolor": "white",
             "linecolor": "white",
             "minorgridcolor": "white",
             "startlinecolor": "#2a3f5f"
            },
            "baxis": {
             "endlinecolor": "#2a3f5f",
             "gridcolor": "white",
             "linecolor": "white",
             "minorgridcolor": "white",
             "startlinecolor": "#2a3f5f"
            },
            "type": "carpet"
           }
          ],
          "choropleth": [
           {
            "colorbar": {
             "outlinewidth": 0,
             "ticks": ""
            },
            "type": "choropleth"
           }
          ],
          "contour": [
           {
            "colorbar": {
             "outlinewidth": 0,
             "ticks": ""
            },
            "colorscale": [
             [
              0,
              "#0d0887"
             ],
             [
              0.1111111111111111,
              "#46039f"
             ],
             [
              0.2222222222222222,
              "#7201a8"
             ],
             [
              0.3333333333333333,
              "#9c179e"
             ],
             [
              0.4444444444444444,
              "#bd3786"
             ],
             [
              0.5555555555555556,
              "#d8576b"
             ],
             [
              0.6666666666666666,
              "#ed7953"
             ],
             [
              0.7777777777777778,
              "#fb9f3a"
             ],
             [
              0.8888888888888888,
              "#fdca26"
             ],
             [
              1,
              "#f0f921"
             ]
            ],
            "type": "contour"
           }
          ],
          "contourcarpet": [
           {
            "colorbar": {
             "outlinewidth": 0,
             "ticks": ""
            },
            "type": "contourcarpet"
           }
          ],
          "heatmap": [
           {
            "colorbar": {
             "outlinewidth": 0,
             "ticks": ""
            },
            "colorscale": [
             [
              0,
              "#0d0887"
             ],
             [
              0.1111111111111111,
              "#46039f"
             ],
             [
              0.2222222222222222,
              "#7201a8"
             ],
             [
              0.3333333333333333,
              "#9c179e"
             ],
             [
              0.4444444444444444,
              "#bd3786"
             ],
             [
              0.5555555555555556,
              "#d8576b"
             ],
             [
              0.6666666666666666,
              "#ed7953"
             ],
             [
              0.7777777777777778,
              "#fb9f3a"
             ],
             [
              0.8888888888888888,
              "#fdca26"
             ],
             [
              1,
              "#f0f921"
             ]
            ],
            "type": "heatmap"
           }
          ],
          "histogram": [
           {
            "marker": {
             "pattern": {
              "fillmode": "overlay",
              "size": 10,
              "solidity": 0.2
             }
            },
            "type": "histogram"
           }
          ],
          "histogram2d": [
           {
            "colorbar": {
             "outlinewidth": 0,
             "ticks": ""
            },
            "colorscale": [
             [
              0,
              "#0d0887"
             ],
             [
              0.1111111111111111,
              "#46039f"
             ],
             [
              0.2222222222222222,
              "#7201a8"
             ],
             [
              0.3333333333333333,
              "#9c179e"
             ],
             [
              0.4444444444444444,
              "#bd3786"
             ],
             [
              0.5555555555555556,
              "#d8576b"
             ],
             [
              0.6666666666666666,
              "#ed7953"
             ],
             [
              0.7777777777777778,
              "#fb9f3a"
             ],
             [
              0.8888888888888888,
              "#fdca26"
             ],
             [
              1,
              "#f0f921"
             ]
            ],
            "type": "histogram2d"
           }
          ],
          "histogram2dcontour": [
           {
            "colorbar": {
             "outlinewidth": 0,
             "ticks": ""
            },
            "colorscale": [
             [
              0,
              "#0d0887"
             ],
             [
              0.1111111111111111,
              "#46039f"
             ],
             [
              0.2222222222222222,
              "#7201a8"
             ],
             [
              0.3333333333333333,
              "#9c179e"
             ],
             [
              0.4444444444444444,
              "#bd3786"
             ],
             [
              0.5555555555555556,
              "#d8576b"
             ],
             [
              0.6666666666666666,
              "#ed7953"
             ],
             [
              0.7777777777777778,
              "#fb9f3a"
             ],
             [
              0.8888888888888888,
              "#fdca26"
             ],
             [
              1,
              "#f0f921"
             ]
            ],
            "type": "histogram2dcontour"
           }
          ],
          "mesh3d": [
           {
            "colorbar": {
             "outlinewidth": 0,
             "ticks": ""
            },
            "type": "mesh3d"
           }
          ],
          "parcoords": [
           {
            "line": {
             "colorbar": {
              "outlinewidth": 0,
              "ticks": ""
             }
            },
            "type": "parcoords"
           }
          ],
          "pie": [
           {
            "automargin": true,
            "type": "pie"
           }
          ],
          "scatter": [
           {
            "fillpattern": {
             "fillmode": "overlay",
             "size": 10,
             "solidity": 0.2
            },
            "type": "scatter"
           }
          ],
          "scatter3d": [
           {
            "line": {
             "colorbar": {
              "outlinewidth": 0,
              "ticks": ""
             }
            },
            "marker": {
             "colorbar": {
              "outlinewidth": 0,
              "ticks": ""
             }
            },
            "type": "scatter3d"
           }
          ],
          "scattercarpet": [
           {
            "marker": {
             "colorbar": {
              "outlinewidth": 0,
              "ticks": ""
             }
            },
            "type": "scattercarpet"
           }
          ],
          "scattergeo": [
           {
            "marker": {
             "colorbar": {
              "outlinewidth": 0,
              "ticks": ""
             }
            },
            "type": "scattergeo"
           }
          ],
          "scattergl": [
           {
            "marker": {
             "colorbar": {
              "outlinewidth": 0,
              "ticks": ""
             }
            },
            "type": "scattergl"
           }
          ],
          "scattermap": [
           {
            "marker": {
             "colorbar": {
              "outlinewidth": 0,
              "ticks": ""
             }
            },
            "type": "scattermap"
           }
          ],
          "scattermapbox": [
           {
            "marker": {
             "colorbar": {
              "outlinewidth": 0,
              "ticks": ""
             }
            },
            "type": "scattermapbox"
           }
          ],
          "scatterpolar": [
           {
            "marker": {
             "colorbar": {
              "outlinewidth": 0,
              "ticks": ""
             }
            },
            "type": "scatterpolar"
           }
          ],
          "scatterpolargl": [
           {
            "marker": {
             "colorbar": {
              "outlinewidth": 0,
              "ticks": ""
             }
            },
            "type": "scatterpolargl"
           }
          ],
          "scatterternary": [
           {
            "marker": {
             "colorbar": {
              "outlinewidth": 0,
              "ticks": ""
             }
            },
            "type": "scatterternary"
           }
          ],
          "surface": [
           {
            "colorbar": {
             "outlinewidth": 0,
             "ticks": ""
            },
            "colorscale": [
             [
              0,
              "#0d0887"
             ],
             [
              0.1111111111111111,
              "#46039f"
             ],
             [
              0.2222222222222222,
              "#7201a8"
             ],
             [
              0.3333333333333333,
              "#9c179e"
             ],
             [
              0.4444444444444444,
              "#bd3786"
             ],
             [
              0.5555555555555556,
              "#d8576b"
             ],
             [
              0.6666666666666666,
              "#ed7953"
             ],
             [
              0.7777777777777778,
              "#fb9f3a"
             ],
             [
              0.8888888888888888,
              "#fdca26"
             ],
             [
              1,
              "#f0f921"
             ]
            ],
            "type": "surface"
           }
          ],
          "table": [
           {
            "cells": {
             "fill": {
              "color": "#EBF0F8"
             },
             "line": {
              "color": "white"
             }
            },
            "header": {
             "fill": {
              "color": "#C8D4E3"
             },
             "line": {
              "color": "white"
             }
            },
            "type": "table"
           }
          ]
         },
         "layout": {
          "annotationdefaults": {
           "arrowcolor": "#2a3f5f",
           "arrowhead": 0,
           "arrowwidth": 1
          },
          "autotypenumbers": "strict",
          "coloraxis": {
           "colorbar": {
            "outlinewidth": 0,
            "ticks": ""
           }
          },
          "colorscale": {
           "diverging": [
            [
             0,
             "#8e0152"
            ],
            [
             0.1,
             "#c51b7d"
            ],
            [
             0.2,
             "#de77ae"
            ],
            [
             0.3,
             "#f1b6da"
            ],
            [
             0.4,
             "#fde0ef"
            ],
            [
             0.5,
             "#f7f7f7"
            ],
            [
             0.6,
             "#e6f5d0"
            ],
            [
             0.7,
             "#b8e186"
            ],
            [
             0.8,
             "#7fbc41"
            ],
            [
             0.9,
             "#4d9221"
            ],
            [
             1,
             "#276419"
            ]
           ],
           "sequential": [
            [
             0,
             "#0d0887"
            ],
            [
             0.1111111111111111,
             "#46039f"
            ],
            [
             0.2222222222222222,
             "#7201a8"
            ],
            [
             0.3333333333333333,
             "#9c179e"
            ],
            [
             0.4444444444444444,
             "#bd3786"
            ],
            [
             0.5555555555555556,
             "#d8576b"
            ],
            [
             0.6666666666666666,
             "#ed7953"
            ],
            [
             0.7777777777777778,
             "#fb9f3a"
            ],
            [
             0.8888888888888888,
             "#fdca26"
            ],
            [
             1,
             "#f0f921"
            ]
           ],
           "sequentialminus": [
            [
             0,
             "#0d0887"
            ],
            [
             0.1111111111111111,
             "#46039f"
            ],
            [
             0.2222222222222222,
             "#7201a8"
            ],
            [
             0.3333333333333333,
             "#9c179e"
            ],
            [
             0.4444444444444444,
             "#bd3786"
            ],
            [
             0.5555555555555556,
             "#d8576b"
            ],
            [
             0.6666666666666666,
             "#ed7953"
            ],
            [
             0.7777777777777778,
             "#fb9f3a"
            ],
            [
             0.8888888888888888,
             "#fdca26"
            ],
            [
             1,
             "#f0f921"
            ]
           ]
          },
          "colorway": [
           "#636efa",
           "#EF553B",
           "#00cc96",
           "#ab63fa",
           "#FFA15A",
           "#19d3f3",
           "#FF6692",
           "#B6E880",
           "#FF97FF",
           "#FECB52"
          ],
          "font": {
           "color": "#2a3f5f"
          },
          "geo": {
           "bgcolor": "white",
           "lakecolor": "white",
           "landcolor": "#E5ECF6",
           "showlakes": true,
           "showland": true,
           "subunitcolor": "white"
          },
          "hoverlabel": {
           "align": "left"
          },
          "hovermode": "closest",
          "mapbox": {
           "style": "light"
          },
          "paper_bgcolor": "white",
          "plot_bgcolor": "#E5ECF6",
          "polar": {
           "angularaxis": {
            "gridcolor": "white",
            "linecolor": "white",
            "ticks": ""
           },
           "bgcolor": "#E5ECF6",
           "radialaxis": {
            "gridcolor": "white",
            "linecolor": "white",
            "ticks": ""
           }
          },
          "scene": {
           "xaxis": {
            "backgroundcolor": "#E5ECF6",
            "gridcolor": "white",
            "gridwidth": 2,
            "linecolor": "white",
            "showbackground": true,
            "ticks": "",
            "zerolinecolor": "white"
           },
           "yaxis": {
            "backgroundcolor": "#E5ECF6",
            "gridcolor": "white",
            "gridwidth": 2,
            "linecolor": "white",
            "showbackground": true,
            "ticks": "",
            "zerolinecolor": "white"
           },
           "zaxis": {
            "backgroundcolor": "#E5ECF6",
            "gridcolor": "white",
            "gridwidth": 2,
            "linecolor": "white",
            "showbackground": true,
            "ticks": "",
            "zerolinecolor": "white"
           }
          },
          "shapedefaults": {
           "line": {
            "color": "#2a3f5f"
           }
          },
          "ternary": {
           "aaxis": {
            "gridcolor": "white",
            "linecolor": "white",
            "ticks": ""
           },
           "baxis": {
            "gridcolor": "white",
            "linecolor": "white",
            "ticks": ""
           },
           "bgcolor": "#E5ECF6",
           "caxis": {
            "gridcolor": "white",
            "linecolor": "white",
            "ticks": ""
           }
          },
          "title": {
           "x": 0.05
          },
          "xaxis": {
           "automargin": true,
           "gridcolor": "white",
           "linecolor": "white",
           "ticks": "",
           "title": {
            "standoff": 15
           },
           "zerolinecolor": "white",
           "zerolinewidth": 2
          },
          "yaxis": {
           "automargin": true,
           "gridcolor": "white",
           "linecolor": "white",
           "ticks": "",
           "title": {
            "standoff": 15
           },
           "zerolinecolor": "white",
           "zerolinewidth": 2
          }
         }
        }
       }
      }
     },
     "metadata": {},
     "output_type": "display_data"
    },
    {
     "data": {
      "application/vnd.plotly.v1+json": {
       "config": {
        "plotlyServerURL": "https://plot.ly"
       },
       "data": [
        {
         "fill": "toself",
         "hovertemplate": "gdds_r=%{r}<br>theta=%{theta}<extra></extra>",
         "legendgroup": "",
         "line": {
          "color": "#636efa",
          "dash": "solid"
         },
         "marker": {
          "symbol": "circle"
         },
         "mode": "lines",
         "name": "",
         "r": {
          "bdata": "VVVVVVVVBUAzMzMzMzMJQI/C9ShcjwZA92M/9mM/AkBBEARBEAQBQKuqqqqqqgRAYhiGYRiGAUCamZmZmZkFQFVVVVVVVQVA",
          "dtype": "f8"
         },
         "showlegend": false,
         "subplot": "polar",
         "theta": [
          "Business Model",
          "Use Case Development",
          "Data Space Offering",
          "Intermediaries and Operators",
          "Participation Management",
          "Organizational Form and Governance Authority",
          "Regulatory Compliance",
          "Contractual Framework",
          "Business Model"
         ],
         "type": "scatterpolar"
        }
       ],
       "layout": {
        "legend": {
         "tracegroupgap": 0
        },
        "margin": {
         "t": 60
        },
        "polar": {
         "angularaxis": {
          "direction": "clockwise",
          "rotation": 90
         },
         "domain": {
          "x": [
           0,
           1
          ],
          "y": [
           0,
           1
          ]
         },
         "radialaxis": {
          "range": [
           0,
           5
          ],
          "tickmode": "array",
          "tickvals": [
           1,
           2,
           3,
           4,
           5
          ]
         }
        },
        "template": {
         "data": {
          "bar": [
           {
            "error_x": {
             "color": "#2a3f5f"
            },
            "error_y": {
             "color": "#2a3f5f"
            },
            "marker": {
             "line": {
              "color": "#E5ECF6",
              "width": 0.5
             },
             "pattern": {
              "fillmode": "overlay",
              "size": 10,
              "solidity": 0.2
             }
            },
            "type": "bar"
           }
          ],
          "barpolar": [
           {
            "marker": {
             "line": {
              "color": "#E5ECF6",
              "width": 0.5
             },
             "pattern": {
              "fillmode": "overlay",
              "size": 10,
              "solidity": 0.2
             }
            },
            "type": "barpolar"
           }
          ],
          "carpet": [
           {
            "aaxis": {
             "endlinecolor": "#2a3f5f",
             "gridcolor": "white",
             "linecolor": "white",
             "minorgridcolor": "white",
             "startlinecolor": "#2a3f5f"
            },
            "baxis": {
             "endlinecolor": "#2a3f5f",
             "gridcolor": "white",
             "linecolor": "white",
             "minorgridcolor": "white",
             "startlinecolor": "#2a3f5f"
            },
            "type": "carpet"
           }
          ],
          "choropleth": [
           {
            "colorbar": {
             "outlinewidth": 0,
             "ticks": ""
            },
            "type": "choropleth"
           }
          ],
          "contour": [
           {
            "colorbar": {
             "outlinewidth": 0,
             "ticks": ""
            },
            "colorscale": [
             [
              0,
              "#0d0887"
             ],
             [
              0.1111111111111111,
              "#46039f"
             ],
             [
              0.2222222222222222,
              "#7201a8"
             ],
             [
              0.3333333333333333,
              "#9c179e"
             ],
             [
              0.4444444444444444,
              "#bd3786"
             ],
             [
              0.5555555555555556,
              "#d8576b"
             ],
             [
              0.6666666666666666,
              "#ed7953"
             ],
             [
              0.7777777777777778,
              "#fb9f3a"
             ],
             [
              0.8888888888888888,
              "#fdca26"
             ],
             [
              1,
              "#f0f921"
             ]
            ],
            "type": "contour"
           }
          ],
          "contourcarpet": [
           {
            "colorbar": {
             "outlinewidth": 0,
             "ticks": ""
            },
            "type": "contourcarpet"
           }
          ],
          "heatmap": [
           {
            "colorbar": {
             "outlinewidth": 0,
             "ticks": ""
            },
            "colorscale": [
             [
              0,
              "#0d0887"
             ],
             [
              0.1111111111111111,
              "#46039f"
             ],
             [
              0.2222222222222222,
              "#7201a8"
             ],
             [
              0.3333333333333333,
              "#9c179e"
             ],
             [
              0.4444444444444444,
              "#bd3786"
             ],
             [
              0.5555555555555556,
              "#d8576b"
             ],
             [
              0.6666666666666666,
              "#ed7953"
             ],
             [
              0.7777777777777778,
              "#fb9f3a"
             ],
             [
              0.8888888888888888,
              "#fdca26"
             ],
             [
              1,
              "#f0f921"
             ]
            ],
            "type": "heatmap"
           }
          ],
          "histogram": [
           {
            "marker": {
             "pattern": {
              "fillmode": "overlay",
              "size": 10,
              "solidity": 0.2
             }
            },
            "type": "histogram"
           }
          ],
          "histogram2d": [
           {
            "colorbar": {
             "outlinewidth": 0,
             "ticks": ""
            },
            "colorscale": [
             [
              0,
              "#0d0887"
             ],
             [
              0.1111111111111111,
              "#46039f"
             ],
             [
              0.2222222222222222,
              "#7201a8"
             ],
             [
              0.3333333333333333,
              "#9c179e"
             ],
             [
              0.4444444444444444,
              "#bd3786"
             ],
             [
              0.5555555555555556,
              "#d8576b"
             ],
             [
              0.6666666666666666,
              "#ed7953"
             ],
             [
              0.7777777777777778,
              "#fb9f3a"
             ],
             [
              0.8888888888888888,
              "#fdca26"
             ],
             [
              1,
              "#f0f921"
             ]
            ],
            "type": "histogram2d"
           }
          ],
          "histogram2dcontour": [
           {
            "colorbar": {
             "outlinewidth": 0,
             "ticks": ""
            },
            "colorscale": [
             [
              0,
              "#0d0887"
             ],
             [
              0.1111111111111111,
              "#46039f"
             ],
             [
              0.2222222222222222,
              "#7201a8"
             ],
             [
              0.3333333333333333,
              "#9c179e"
             ],
             [
              0.4444444444444444,
              "#bd3786"
             ],
             [
              0.5555555555555556,
              "#d8576b"
             ],
             [
              0.6666666666666666,
              "#ed7953"
             ],
             [
              0.7777777777777778,
              "#fb9f3a"
             ],
             [
              0.8888888888888888,
              "#fdca26"
             ],
             [
              1,
              "#f0f921"
             ]
            ],
            "type": "histogram2dcontour"
           }
          ],
          "mesh3d": [
           {
            "colorbar": {
             "outlinewidth": 0,
             "ticks": ""
            },
            "type": "mesh3d"
           }
          ],
          "parcoords": [
           {
            "line": {
             "colorbar": {
              "outlinewidth": 0,
              "ticks": ""
             }
            },
            "type": "parcoords"
           }
          ],
          "pie": [
           {
            "automargin": true,
            "type": "pie"
           }
          ],
          "scatter": [
           {
            "fillpattern": {
             "fillmode": "overlay",
             "size": 10,
             "solidity": 0.2
            },
            "type": "scatter"
           }
          ],
          "scatter3d": [
           {
            "line": {
             "colorbar": {
              "outlinewidth": 0,
              "ticks": ""
             }
            },
            "marker": {
             "colorbar": {
              "outlinewidth": 0,
              "ticks": ""
             }
            },
            "type": "scatter3d"
           }
          ],
          "scattercarpet": [
           {
            "marker": {
             "colorbar": {
              "outlinewidth": 0,
              "ticks": ""
             }
            },
            "type": "scattercarpet"
           }
          ],
          "scattergeo": [
           {
            "marker": {
             "colorbar": {
              "outlinewidth": 0,
              "ticks": ""
             }
            },
            "type": "scattergeo"
           }
          ],
          "scattergl": [
           {
            "marker": {
             "colorbar": {
              "outlinewidth": 0,
              "ticks": ""
             }
            },
            "type": "scattergl"
           }
          ],
          "scattermap": [
           {
            "marker": {
             "colorbar": {
              "outlinewidth": 0,
              "ticks": ""
             }
            },
            "type": "scattermap"
           }
          ],
          "scattermapbox": [
           {
            "marker": {
             "colorbar": {
              "outlinewidth": 0,
              "ticks": ""
             }
            },
            "type": "scattermapbox"
           }
          ],
          "scatterpolar": [
           {
            "marker": {
             "colorbar": {
              "outlinewidth": 0,
              "ticks": ""
             }
            },
            "type": "scatterpolar"
           }
          ],
          "scatterpolargl": [
           {
            "marker": {
             "colorbar": {
              "outlinewidth": 0,
              "ticks": ""
             }
            },
            "type": "scatterpolargl"
           }
          ],
          "scatterternary": [
           {
            "marker": {
             "colorbar": {
              "outlinewidth": 0,
              "ticks": ""
             }
            },
            "type": "scatterternary"
           }
          ],
          "surface": [
           {
            "colorbar": {
             "outlinewidth": 0,
             "ticks": ""
            },
            "colorscale": [
             [
              0,
              "#0d0887"
             ],
             [
              0.1111111111111111,
              "#46039f"
             ],
             [
              0.2222222222222222,
              "#7201a8"
             ],
             [
              0.3333333333333333,
              "#9c179e"
             ],
             [
              0.4444444444444444,
              "#bd3786"
             ],
             [
              0.5555555555555556,
              "#d8576b"
             ],
             [
              0.6666666666666666,
              "#ed7953"
             ],
             [
              0.7777777777777778,
              "#fb9f3a"
             ],
             [
              0.8888888888888888,
              "#fdca26"
             ],
             [
              1,
              "#f0f921"
             ]
            ],
            "type": "surface"
           }
          ],
          "table": [
           {
            "cells": {
             "fill": {
              "color": "#EBF0F8"
             },
             "line": {
              "color": "white"
             }
            },
            "header": {
             "fill": {
              "color": "#C8D4E3"
             },
             "line": {
              "color": "white"
             }
            },
            "type": "table"
           }
          ]
         },
         "layout": {
          "annotationdefaults": {
           "arrowcolor": "#2a3f5f",
           "arrowhead": 0,
           "arrowwidth": 1
          },
          "autotypenumbers": "strict",
          "coloraxis": {
           "colorbar": {
            "outlinewidth": 0,
            "ticks": ""
           }
          },
          "colorscale": {
           "diverging": [
            [
             0,
             "#8e0152"
            ],
            [
             0.1,
             "#c51b7d"
            ],
            [
             0.2,
             "#de77ae"
            ],
            [
             0.3,
             "#f1b6da"
            ],
            [
             0.4,
             "#fde0ef"
            ],
            [
             0.5,
             "#f7f7f7"
            ],
            [
             0.6,
             "#e6f5d0"
            ],
            [
             0.7,
             "#b8e186"
            ],
            [
             0.8,
             "#7fbc41"
            ],
            [
             0.9,
             "#4d9221"
            ],
            [
             1,
             "#276419"
            ]
           ],
           "sequential": [
            [
             0,
             "#0d0887"
            ],
            [
             0.1111111111111111,
             "#46039f"
            ],
            [
             0.2222222222222222,
             "#7201a8"
            ],
            [
             0.3333333333333333,
             "#9c179e"
            ],
            [
             0.4444444444444444,
             "#bd3786"
            ],
            [
             0.5555555555555556,
             "#d8576b"
            ],
            [
             0.6666666666666666,
             "#ed7953"
            ],
            [
             0.7777777777777778,
             "#fb9f3a"
            ],
            [
             0.8888888888888888,
             "#fdca26"
            ],
            [
             1,
             "#f0f921"
            ]
           ],
           "sequentialminus": [
            [
             0,
             "#0d0887"
            ],
            [
             0.1111111111111111,
             "#46039f"
            ],
            [
             0.2222222222222222,
             "#7201a8"
            ],
            [
             0.3333333333333333,
             "#9c179e"
            ],
            [
             0.4444444444444444,
             "#bd3786"
            ],
            [
             0.5555555555555556,
             "#d8576b"
            ],
            [
             0.6666666666666666,
             "#ed7953"
            ],
            [
             0.7777777777777778,
             "#fb9f3a"
            ],
            [
             0.8888888888888888,
             "#fdca26"
            ],
            [
             1,
             "#f0f921"
            ]
           ]
          },
          "colorway": [
           "#636efa",
           "#EF553B",
           "#00cc96",
           "#ab63fa",
           "#FFA15A",
           "#19d3f3",
           "#FF6692",
           "#B6E880",
           "#FF97FF",
           "#FECB52"
          ],
          "font": {
           "color": "#2a3f5f"
          },
          "geo": {
           "bgcolor": "white",
           "lakecolor": "white",
           "landcolor": "#E5ECF6",
           "showlakes": true,
           "showland": true,
           "subunitcolor": "white"
          },
          "hoverlabel": {
           "align": "left"
          },
          "hovermode": "closest",
          "mapbox": {
           "style": "light"
          },
          "paper_bgcolor": "white",
          "plot_bgcolor": "#E5ECF6",
          "polar": {
           "angularaxis": {
            "gridcolor": "white",
            "linecolor": "white",
            "ticks": ""
           },
           "bgcolor": "#E5ECF6",
           "radialaxis": {
            "gridcolor": "white",
            "linecolor": "white",
            "ticks": ""
           }
          },
          "scene": {
           "xaxis": {
            "backgroundcolor": "#E5ECF6",
            "gridcolor": "white",
            "gridwidth": 2,
            "linecolor": "white",
            "showbackground": true,
            "ticks": "",
            "zerolinecolor": "white"
           },
           "yaxis": {
            "backgroundcolor": "#E5ECF6",
            "gridcolor": "white",
            "gridwidth": 2,
            "linecolor": "white",
            "showbackground": true,
            "ticks": "",
            "zerolinecolor": "white"
           },
           "zaxis": {
            "backgroundcolor": "#E5ECF6",
            "gridcolor": "white",
            "gridwidth": 2,
            "linecolor": "white",
            "showbackground": true,
            "ticks": "",
            "zerolinecolor": "white"
           }
          },
          "shapedefaults": {
           "line": {
            "color": "#2a3f5f"
           }
          },
          "ternary": {
           "aaxis": {
            "gridcolor": "white",
            "linecolor": "white",
            "ticks": ""
           },
           "baxis": {
            "gridcolor": "white",
            "linecolor": "white",
            "ticks": ""
           },
           "bgcolor": "#E5ECF6",
           "caxis": {
            "gridcolor": "white",
            "linecolor": "white",
            "ticks": ""
           }
          },
          "title": {
           "x": 0.05
          },
          "xaxis": {
           "automargin": true,
           "gridcolor": "white",
           "linecolor": "white",
           "ticks": "",
           "title": {
            "standoff": 15
           },
           "zerolinecolor": "white",
           "zerolinewidth": 2
          },
          "yaxis": {
           "automargin": true,
           "gridcolor": "white",
           "linecolor": "white",
           "ticks": "",
           "title": {
            "standoff": 15
           },
           "zerolinecolor": "white",
           "zerolinewidth": 2
          }
         }
        }
       }
      }
     },
     "metadata": {},
     "output_type": "display_data"
    }
   ],
   "source": [
    "cx_df = pd.DataFrame(dict(\n",
    "    cx_r = cx_scores,\n",
    "    theta=['Business Model', 'Use Case Development', 'Data Space Offering', 'Intermediaries and Operators', 'Participation Management', 'Organizational Form and Governance Authority', 'Regulatory Compliance', 'Contractual Framework']))\n",
    "\n",
    "ds4sscc_df = pd.DataFrame(dict(\n",
    "    ds4sscc_r = ds4sscc_scores,\n",
    "    theta=['Business Model', 'Use Case Development', 'Data Space Offering', 'Intermediaries and Operators', 'Participation Management', 'Organizational Form and Governance Authority', 'Regulatory Compliance', 'Contractual Framework']))\n",
    "\n",
    "ceeds_df = pd.DataFrame(dict(\n",
    "    ceeds_r = ceeds_scores,\n",
    "    theta=['Business Model', 'Use Case Development', 'Data Space Offering', 'Intermediaries and Operators', 'Participation Management', 'Organizational Form and Governance Authority', 'Regulatory Compliance', 'Contractual Framework']))\n",
    "\n",
    "gdds_df = pd.DataFrame(dict(\n",
    "    gdds_r = gdds_scores,\n",
    "     theta=['Business Model', 'Use Case Development', 'Data Space Offering', 'Intermediaries and Operators', 'Participation Management', 'Organizational Form and Governance Authority', 'Regulatory Compliance', 'Contractual Framework']))\n",
    "\n",
    "\n",
    "\n",
    "cx_radar = px.line_polar(cx_df, r = 'cx_r', theta = 'theta', line_close = True)\n",
    "cx_radar.update_traces(fill='toself')\n",
    "cx_radar.update_polars(\n",
    "        radialaxis_tickvals = [1,2,3,4,5],\n",
    "        radialaxis_tickmode = \"array\",\n",
    "        radialaxis_range = [0,5]\n",
    ")\n",
    "cx_radar.show()\n",
    "\n",
    "ds4sscc_radar = px.line_polar(ds4sscc_df, r = 'ds4sscc_r', theta = 'theta', line_close = True)\n",
    "ds4sscc_radar.update_traces(fill='toself')\n",
    "ds4sscc_radar.update_polars(\n",
    "        radialaxis_tickvals = [1,2,3,4,5],\n",
    "        radialaxis_tickmode = \"array\",\n",
    "        radialaxis_range = [0,5]\n",
    ")\n",
    "ds4sscc_radar.show()\n",
    "\n",
    "ceeds_radar = px.line_polar(ceeds_df, r = 'ceeds_r', theta = 'theta', line_close=True)\n",
    "ceeds_radar.update_traces(fill='toself')\n",
    "ceeds_radar.update_polars(\n",
    "    radialaxis_tickvals = [1,2,3,4,5],\n",
    "    radialaxis_tickmode = \"array\",\n",
    "    radialaxis_range = [0,5]\n",
    ")\n",
    "\n",
    "ceeds_radar.show()\n",
    "\n",
    "\n",
    "gdds_radar = px.line_polar(gdds_df, r = 'gdds_r', theta='theta', line_close = True)\n",
    "gdds_radar.update_traces(fill='toself')\n",
    "gdds_radar.update_polars(\n",
    "    radialaxis_tickvals = [1,2,3,4,5],\n",
    "    radialaxis_tickmode = \"array\",\n",
    "    radialaxis_range = [0,5]\n",
    ")\n",
    "\n",
    "gdds_radar.show()"
   ]
  },
  {
   "cell_type": "code",
   "execution_count": 8,
   "metadata": {},
   "outputs": [
    {
     "name": "stdout",
     "output_type": "stream",
     "text": [
      "catena-x: 3.5416468253968256\n",
      "ds4sscc: 2.5630357142857143\n",
      "ceeeds: 2.7863392857142855\n",
      "gdds: 2.5648015873015875\n",
      "Catena-X Business Model Score: 3.4166666666666665\n",
      "Catena-X Use Case Development Score: 3.6\n",
      "Catena-X Data Space Offering Score: 3.78\n",
      "Catena-X Intermediaries and Operators Score: 3.161904761904762\n",
      "Catena-X Organizational Form and Governance Authority Score: 4.2\n",
      "Catena-X Participation Management: 2.8055555555555554\n",
      "Catena-X Regulatory Compliance: 3.452380952380952\n",
      "Catena-X Contractual Framework Score: 3.916666666666667\n",
      "DS4SSCC Business Model Score: 2.5833333333333335\n",
      "DS4SSCC Use Case Development Score: 2.65\n",
      "DS4SSCC Data Space Offering Score: 3.306666666666666\n",
      "DS4SSCC Intermediaries and Operators Score: 2.695238095238095\n",
      "DS4SSCC Organizational Form and Governance Authority Score: 2.5539682539682538\n",
      "DS4SSCC Participation Management: 2.638888888888889\n",
      "DS4SSCC Regulatory Compliance: 1.9761904761904763\n",
      "DS4SSCC Contractual Framework Score: 2.1\n",
      "ceeds Business Model Score: 2.5416666666666665\n",
      "ceeds Use Case Development Score: 2.8\n",
      "ceeds Data Space Offering Score: 2.8466666666666667\n",
      "ceeds Intermediaries and Operators Score: 2.6904761904761907\n",
      "ceeds Organizational Form and Governance Authority Score: 2.6888888888888887\n",
      "ceeds Participation Management: 2.861111111111111\n",
      "ceeds Regulatory Compliance: 2.9285714285714284\n",
      "ceeds Contractual Framework Score: 2.933333333333333\n",
      "gdds Business Model Score: 2.6666666666666665\n",
      "gdds Use Case Development Score: 3.15\n",
      "gdds Data Space Offering Score: 2.82\n",
      "gdds Intermediaries and Operators Score: 2.2809523809523813\n",
      "gdds Organizational Form and Governance Authority Score: 2.126984126984127\n",
      "gdds Participation Management: 2.5833333333333335\n",
      "gdds Regulatory Compliance: 2.1904761904761907\n",
      "gdds Contractual Framework Score: 2.7\n"
     ]
    }
   ],
   "source": [
    "print(\"catena-x:\", sum(cx_scores)/8)\n",
    "print(\"ds4sscc:\", sum(ds4sscc_scores)/8)\n",
    "print(\"ceeeds:\", sum(ceeds_scores)/8)\n",
    "print(\"gdds:\", sum(gdds_scores)/8)\n",
    "\n",
    "print(\"Catena-X Business Model Score:\", cx_score_bm)\n",
    "print(\"Catena-X Use Case Development Score:\", cx_score_ucd)\n",
    "print(\"Catena-X Data Space Offering Score:\", cx_score_dso)\n",
    "print(\"Catena-X Intermediaries and Operators Score:\", cx_score_io)\n",
    "print(\"Catena-X Organizational Form and Governance Authority Score:\", cx_score_ofga)\n",
    "print(\"Catena-X Participation Management:\", cx_score_pm)\n",
    "print(\"Catena-X Regulatory Compliance:\", cx_score_rc)\n",
    "print(\"Catena-X Contractual Framework Score:\", cx_score_cf)\n",
    "\n",
    "print(\"DS4SSCC Business Model Score:\", ds4sscc_score_bm)\n",
    "print(\"DS4SSCC Use Case Development Score:\", ds4sscc_score_ucd)\n",
    "print(\"DS4SSCC Data Space Offering Score:\", ds4sscc_score_dso)\n",
    "print(\"DS4SSCC Intermediaries and Operators Score:\", ds4sscc_score_io)\n",
    "print(\"DS4SSCC Organizational Form and Governance Authority Score:\", ds4sscc_score_ofga)\n",
    "print(\"DS4SSCC Participation Management:\", ds4sscc_score_pm)\n",
    "print(\"DS4SSCC Regulatory Compliance:\", ds4sscc_score_rc)\n",
    "print(\"DS4SSCC Contractual Framework Score:\", ds4sscc_score_cf)\n",
    "\n",
    "print(\"ceeds Business Model Score:\", ceeds_score_bm)\n",
    "print(\"ceeds Use Case Development Score:\", ceeds_score_ucd)\n",
    "print(\"ceeds Data Space Offering Score:\", ceeds_score_dso)\n",
    "print(\"ceeds Intermediaries and Operators Score:\", ceeds_score_io)\n",
    "print(\"ceeds Organizational Form and Governance Authority Score:\", ceeds_score_ofga)\n",
    "print(\"ceeds Participation Management:\", ceeds_score_pm)\n",
    "print(\"ceeds Regulatory Compliance:\", ceeds_score_rc)\n",
    "print(\"ceeds Contractual Framework Score:\", ceeds_score_cf)\n",
    "\n",
    "print(\"gdds Business Model Score:\", gdds_score_bm)\n",
    "print(\"gdds Use Case Development Score:\", gdds_score_ucd)\n",
    "print(\"gdds Data Space Offering Score:\", gdds_score_dso)\n",
    "print(\"gdds Intermediaries and Operators Score:\", gdds_score_io)\n",
    "print(\"gdds Organizational Form and Governance Authority Score:\", gdds_score_ofga)\n",
    "print(\"gdds Participation Management:\", gdds_score_pm)\n",
    "print(\"gdds Regulatory Compliance:\", gdds_score_rc)\n",
    "print(\"gdds Contractual Framework Score:\", gdds_score_cf)\n"
   ]
  },
  {
   "cell_type": "code",
   "execution_count": 24,
   "metadata": {},
   "outputs": [
    {
     "data": {
      "application/vnd.plotly.v1+json": {
       "config": {
        "plotlyServerURL": "https://plot.ly"
       },
       "data": [
        {
         "mode": "lines",
         "name": "Catena-X",
         "r": [
          3.4166666666666665,
          3.6,
          3.78,
          3.161904761904762,
          4.2,
          2.8055555555555554,
          3.452380952380952,
          3.916666666666667
         ],
         "theta": [
          "Business Model",
          "Use Case Development",
          "Data Space Offering",
          "Intermediaries and Operators",
          "Participation Management",
          "Organizational Form and Governance Authority",
          "Regulatory Compliance",
          "Contractual Framework"
         ],
         "type": "scatterpolar"
        },
        {
         "mode": "lines",
         "name": "DS4SSCC",
         "r": [
          2.5833333333333335,
          2.65,
          3.306666666666666,
          2.695238095238095,
          2.5539682539682538,
          2.638888888888889,
          1.9761904761904763,
          2.1
         ],
         "theta": [
          "Business Model",
          "Use Case Development",
          "Data Space Offering",
          "Intermediaries and Operators",
          "Participation Management",
          "Organizational Form and Governance Authority",
          "Regulatory Compliance",
          "Contractual Framework"
         ],
         "type": "scatterpolar"
        },
        {
         "mode": "lines",
         "name": "CEEDS",
         "r": [
          2.5416666666666665,
          2.8,
          2.8466666666666667,
          2.6904761904761907,
          2.6888888888888887,
          2.861111111111111,
          2.9285714285714284,
          2.933333333333333
         ],
         "theta": [
          "Business Model",
          "Use Case Development",
          "Data Space Offering",
          "Intermediaries and Operators",
          "Participation Management",
          "Organizational Form and Governance Authority",
          "Regulatory Compliance",
          "Contractual Framework"
         ],
         "type": "scatterpolar"
        },
        {
         "mode": "lines",
         "name": "GDDS",
         "r": [
          2.6666666666666665,
          3.15,
          2.82,
          2.2809523809523813,
          2.126984126984127,
          2.5833333333333335,
          2.1904761904761907,
          2.7
         ],
         "theta": [
          "Business Model",
          "Use Case Development",
          "Data Space Offering",
          "Intermediaries and Operators",
          "Participation Management",
          "Organizational Form and Governance Authority",
          "Regulatory Compliance",
          "Contractual Framework"
         ],
         "type": "scatterpolar"
        }
       ],
       "layout": {
        "polar": {
         "radialaxis": {
          "range": [
           0,
           5
          ],
          "visible": true
         }
        },
        "showlegend": true,
        "template": {
         "data": {
          "bar": [
           {
            "error_x": {
             "color": "#2a3f5f"
            },
            "error_y": {
             "color": "#2a3f5f"
            },
            "marker": {
             "line": {
              "color": "#E5ECF6",
              "width": 0.5
             },
             "pattern": {
              "fillmode": "overlay",
              "size": 10,
              "solidity": 0.2
             }
            },
            "type": "bar"
           }
          ],
          "barpolar": [
           {
            "marker": {
             "line": {
              "color": "#E5ECF6",
              "width": 0.5
             },
             "pattern": {
              "fillmode": "overlay",
              "size": 10,
              "solidity": 0.2
             }
            },
            "type": "barpolar"
           }
          ],
          "carpet": [
           {
            "aaxis": {
             "endlinecolor": "#2a3f5f",
             "gridcolor": "white",
             "linecolor": "white",
             "minorgridcolor": "white",
             "startlinecolor": "#2a3f5f"
            },
            "baxis": {
             "endlinecolor": "#2a3f5f",
             "gridcolor": "white",
             "linecolor": "white",
             "minorgridcolor": "white",
             "startlinecolor": "#2a3f5f"
            },
            "type": "carpet"
           }
          ],
          "choropleth": [
           {
            "colorbar": {
             "outlinewidth": 0,
             "ticks": ""
            },
            "type": "choropleth"
           }
          ],
          "contour": [
           {
            "colorbar": {
             "outlinewidth": 0,
             "ticks": ""
            },
            "colorscale": [
             [
              0,
              "#0d0887"
             ],
             [
              0.1111111111111111,
              "#46039f"
             ],
             [
              0.2222222222222222,
              "#7201a8"
             ],
             [
              0.3333333333333333,
              "#9c179e"
             ],
             [
              0.4444444444444444,
              "#bd3786"
             ],
             [
              0.5555555555555556,
              "#d8576b"
             ],
             [
              0.6666666666666666,
              "#ed7953"
             ],
             [
              0.7777777777777778,
              "#fb9f3a"
             ],
             [
              0.8888888888888888,
              "#fdca26"
             ],
             [
              1,
              "#f0f921"
             ]
            ],
            "type": "contour"
           }
          ],
          "contourcarpet": [
           {
            "colorbar": {
             "outlinewidth": 0,
             "ticks": ""
            },
            "type": "contourcarpet"
           }
          ],
          "heatmap": [
           {
            "colorbar": {
             "outlinewidth": 0,
             "ticks": ""
            },
            "colorscale": [
             [
              0,
              "#0d0887"
             ],
             [
              0.1111111111111111,
              "#46039f"
             ],
             [
              0.2222222222222222,
              "#7201a8"
             ],
             [
              0.3333333333333333,
              "#9c179e"
             ],
             [
              0.4444444444444444,
              "#bd3786"
             ],
             [
              0.5555555555555556,
              "#d8576b"
             ],
             [
              0.6666666666666666,
              "#ed7953"
             ],
             [
              0.7777777777777778,
              "#fb9f3a"
             ],
             [
              0.8888888888888888,
              "#fdca26"
             ],
             [
              1,
              "#f0f921"
             ]
            ],
            "type": "heatmap"
           }
          ],
          "histogram": [
           {
            "marker": {
             "pattern": {
              "fillmode": "overlay",
              "size": 10,
              "solidity": 0.2
             }
            },
            "type": "histogram"
           }
          ],
          "histogram2d": [
           {
            "colorbar": {
             "outlinewidth": 0,
             "ticks": ""
            },
            "colorscale": [
             [
              0,
              "#0d0887"
             ],
             [
              0.1111111111111111,
              "#46039f"
             ],
             [
              0.2222222222222222,
              "#7201a8"
             ],
             [
              0.3333333333333333,
              "#9c179e"
             ],
             [
              0.4444444444444444,
              "#bd3786"
             ],
             [
              0.5555555555555556,
              "#d8576b"
             ],
             [
              0.6666666666666666,
              "#ed7953"
             ],
             [
              0.7777777777777778,
              "#fb9f3a"
             ],
             [
              0.8888888888888888,
              "#fdca26"
             ],
             [
              1,
              "#f0f921"
             ]
            ],
            "type": "histogram2d"
           }
          ],
          "histogram2dcontour": [
           {
            "colorbar": {
             "outlinewidth": 0,
             "ticks": ""
            },
            "colorscale": [
             [
              0,
              "#0d0887"
             ],
             [
              0.1111111111111111,
              "#46039f"
             ],
             [
              0.2222222222222222,
              "#7201a8"
             ],
             [
              0.3333333333333333,
              "#9c179e"
             ],
             [
              0.4444444444444444,
              "#bd3786"
             ],
             [
              0.5555555555555556,
              "#d8576b"
             ],
             [
              0.6666666666666666,
              "#ed7953"
             ],
             [
              0.7777777777777778,
              "#fb9f3a"
             ],
             [
              0.8888888888888888,
              "#fdca26"
             ],
             [
              1,
              "#f0f921"
             ]
            ],
            "type": "histogram2dcontour"
           }
          ],
          "mesh3d": [
           {
            "colorbar": {
             "outlinewidth": 0,
             "ticks": ""
            },
            "type": "mesh3d"
           }
          ],
          "parcoords": [
           {
            "line": {
             "colorbar": {
              "outlinewidth": 0,
              "ticks": ""
             }
            },
            "type": "parcoords"
           }
          ],
          "pie": [
           {
            "automargin": true,
            "type": "pie"
           }
          ],
          "scatter": [
           {
            "fillpattern": {
             "fillmode": "overlay",
             "size": 10,
             "solidity": 0.2
            },
            "type": "scatter"
           }
          ],
          "scatter3d": [
           {
            "line": {
             "colorbar": {
              "outlinewidth": 0,
              "ticks": ""
             }
            },
            "marker": {
             "colorbar": {
              "outlinewidth": 0,
              "ticks": ""
             }
            },
            "type": "scatter3d"
           }
          ],
          "scattercarpet": [
           {
            "marker": {
             "colorbar": {
              "outlinewidth": 0,
              "ticks": ""
             }
            },
            "type": "scattercarpet"
           }
          ],
          "scattergeo": [
           {
            "marker": {
             "colorbar": {
              "outlinewidth": 0,
              "ticks": ""
             }
            },
            "type": "scattergeo"
           }
          ],
          "scattergl": [
           {
            "marker": {
             "colorbar": {
              "outlinewidth": 0,
              "ticks": ""
             }
            },
            "type": "scattergl"
           }
          ],
          "scattermap": [
           {
            "marker": {
             "colorbar": {
              "outlinewidth": 0,
              "ticks": ""
             }
            },
            "type": "scattermap"
           }
          ],
          "scattermapbox": [
           {
            "marker": {
             "colorbar": {
              "outlinewidth": 0,
              "ticks": ""
             }
            },
            "type": "scattermapbox"
           }
          ],
          "scatterpolar": [
           {
            "marker": {
             "colorbar": {
              "outlinewidth": 0,
              "ticks": ""
             }
            },
            "type": "scatterpolar"
           }
          ],
          "scatterpolargl": [
           {
            "marker": {
             "colorbar": {
              "outlinewidth": 0,
              "ticks": ""
             }
            },
            "type": "scatterpolargl"
           }
          ],
          "scatterternary": [
           {
            "marker": {
             "colorbar": {
              "outlinewidth": 0,
              "ticks": ""
             }
            },
            "type": "scatterternary"
           }
          ],
          "surface": [
           {
            "colorbar": {
             "outlinewidth": 0,
             "ticks": ""
            },
            "colorscale": [
             [
              0,
              "#0d0887"
             ],
             [
              0.1111111111111111,
              "#46039f"
             ],
             [
              0.2222222222222222,
              "#7201a8"
             ],
             [
              0.3333333333333333,
              "#9c179e"
             ],
             [
              0.4444444444444444,
              "#bd3786"
             ],
             [
              0.5555555555555556,
              "#d8576b"
             ],
             [
              0.6666666666666666,
              "#ed7953"
             ],
             [
              0.7777777777777778,
              "#fb9f3a"
             ],
             [
              0.8888888888888888,
              "#fdca26"
             ],
             [
              1,
              "#f0f921"
             ]
            ],
            "type": "surface"
           }
          ],
          "table": [
           {
            "cells": {
             "fill": {
              "color": "#EBF0F8"
             },
             "line": {
              "color": "white"
             }
            },
            "header": {
             "fill": {
              "color": "#C8D4E3"
             },
             "line": {
              "color": "white"
             }
            },
            "type": "table"
           }
          ]
         },
         "layout": {
          "annotationdefaults": {
           "arrowcolor": "#2a3f5f",
           "arrowhead": 0,
           "arrowwidth": 1
          },
          "autotypenumbers": "strict",
          "coloraxis": {
           "colorbar": {
            "outlinewidth": 0,
            "ticks": ""
           }
          },
          "colorscale": {
           "diverging": [
            [
             0,
             "#8e0152"
            ],
            [
             0.1,
             "#c51b7d"
            ],
            [
             0.2,
             "#de77ae"
            ],
            [
             0.3,
             "#f1b6da"
            ],
            [
             0.4,
             "#fde0ef"
            ],
            [
             0.5,
             "#f7f7f7"
            ],
            [
             0.6,
             "#e6f5d0"
            ],
            [
             0.7,
             "#b8e186"
            ],
            [
             0.8,
             "#7fbc41"
            ],
            [
             0.9,
             "#4d9221"
            ],
            [
             1,
             "#276419"
            ]
           ],
           "sequential": [
            [
             0,
             "#0d0887"
            ],
            [
             0.1111111111111111,
             "#46039f"
            ],
            [
             0.2222222222222222,
             "#7201a8"
            ],
            [
             0.3333333333333333,
             "#9c179e"
            ],
            [
             0.4444444444444444,
             "#bd3786"
            ],
            [
             0.5555555555555556,
             "#d8576b"
            ],
            [
             0.6666666666666666,
             "#ed7953"
            ],
            [
             0.7777777777777778,
             "#fb9f3a"
            ],
            [
             0.8888888888888888,
             "#fdca26"
            ],
            [
             1,
             "#f0f921"
            ]
           ],
           "sequentialminus": [
            [
             0,
             "#0d0887"
            ],
            [
             0.1111111111111111,
             "#46039f"
            ],
            [
             0.2222222222222222,
             "#7201a8"
            ],
            [
             0.3333333333333333,
             "#9c179e"
            ],
            [
             0.4444444444444444,
             "#bd3786"
            ],
            [
             0.5555555555555556,
             "#d8576b"
            ],
            [
             0.6666666666666666,
             "#ed7953"
            ],
            [
             0.7777777777777778,
             "#fb9f3a"
            ],
            [
             0.8888888888888888,
             "#fdca26"
            ],
            [
             1,
             "#f0f921"
            ]
           ]
          },
          "colorway": [
           "#636efa",
           "#EF553B",
           "#00cc96",
           "#ab63fa",
           "#FFA15A",
           "#19d3f3",
           "#FF6692",
           "#B6E880",
           "#FF97FF",
           "#FECB52"
          ],
          "font": {
           "color": "#2a3f5f"
          },
          "geo": {
           "bgcolor": "white",
           "lakecolor": "white",
           "landcolor": "#E5ECF6",
           "showlakes": true,
           "showland": true,
           "subunitcolor": "white"
          },
          "hoverlabel": {
           "align": "left"
          },
          "hovermode": "closest",
          "mapbox": {
           "style": "light"
          },
          "paper_bgcolor": "white",
          "plot_bgcolor": "#E5ECF6",
          "polar": {
           "angularaxis": {
            "gridcolor": "white",
            "linecolor": "white",
            "ticks": ""
           },
           "bgcolor": "#E5ECF6",
           "radialaxis": {
            "gridcolor": "white",
            "linecolor": "white",
            "ticks": ""
           }
          },
          "scene": {
           "xaxis": {
            "backgroundcolor": "#E5ECF6",
            "gridcolor": "white",
            "gridwidth": 2,
            "linecolor": "white",
            "showbackground": true,
            "ticks": "",
            "zerolinecolor": "white"
           },
           "yaxis": {
            "backgroundcolor": "#E5ECF6",
            "gridcolor": "white",
            "gridwidth": 2,
            "linecolor": "white",
            "showbackground": true,
            "ticks": "",
            "zerolinecolor": "white"
           },
           "zaxis": {
            "backgroundcolor": "#E5ECF6",
            "gridcolor": "white",
            "gridwidth": 2,
            "linecolor": "white",
            "showbackground": true,
            "ticks": "",
            "zerolinecolor": "white"
           }
          },
          "shapedefaults": {
           "line": {
            "color": "#2a3f5f"
           }
          },
          "ternary": {
           "aaxis": {
            "gridcolor": "white",
            "linecolor": "white",
            "ticks": ""
           },
           "baxis": {
            "gridcolor": "white",
            "linecolor": "white",
            "ticks": ""
           },
           "bgcolor": "#E5ECF6",
           "caxis": {
            "gridcolor": "white",
            "linecolor": "white",
            "ticks": ""
           }
          },
          "title": {
           "x": 0.05
          },
          "xaxis": {
           "automargin": true,
           "gridcolor": "white",
           "linecolor": "white",
           "ticks": "",
           "title": {
            "standoff": 15
           },
           "zerolinecolor": "white",
           "zerolinewidth": 2
          },
          "yaxis": {
           "automargin": true,
           "gridcolor": "white",
           "linecolor": "white",
           "ticks": "",
           "title": {
            "standoff": 15
           },
           "zerolinecolor": "white",
           "zerolinewidth": 2
          }
         }
        }
       }
      }
     },
     "metadata": {},
     "output_type": "display_data"
    }
   ],
   "source": [
    "import plotly.graph_objects as go\n",
    "\n",
    "categories = [\n",
    "    'Business Model', 'Use Case Development', 'Data Space Offering',\n",
    "    'Intermediaries and Operators', 'Participation Management',\n",
    "    'Organizational Form and Governance Authority',\n",
    "    'Regulatory Compliance', 'Contractual Framework'\n",
    "]\n",
    "\n",
    "fig = go.Figure()\n",
    "\n",
    "fig.add_trace(go.Scatterpolar(\n",
    "    r = cx_scores,\n",
    "    theta = categories,\n",
    "    name = 'Catena-X',\n",
    "    mode = 'lines'\n",
    "))\n",
    "\n",
    "fig.add_trace(go.Scatterpolar(\n",
    "    r = ds4sscc_scores,\n",
    "    theta = categories,\n",
    "    name = 'DS4SSCC',\n",
    "    mode = 'lines'\n",
    "))\n",
    "\n",
    "fig.add_trace(go.Scatterpolar(\n",
    "    r = ceeds_scores,\n",
    "    theta = categories,\n",
    "    name = 'CEEDS',\n",
    "    mode = 'lines'\n",
    "))\n",
    "\n",
    "fig.add_trace(go.Scatterpolar(\n",
    "    r = gdds_scores,\n",
    "    theta = categories,\n",
    "    name = 'GDDS',\n",
    "    mode = 'lines'\n",
    "))\n",
    "\n",
    "fig.update_layout(\n",
    "    polar=dict(\n",
    "        radialaxis=dict(\n",
    "            visible=True,\n",
    "            range=[0, 5]\n",
    "        )\n",
    "    ),\n",
    "    showlegend=True\n",
    ")\n",
    "\n",
    "fig.show()\n"
   ]
  },
  {
   "cell_type": "code",
   "execution_count": null,
   "metadata": {},
   "outputs": [],
   "source": []
  },
  {
   "cell_type": "code",
   "execution_count": null,
   "metadata": {},
   "outputs": [],
   "source": []
  },
  {
   "cell_type": "code",
   "execution_count": null,
   "metadata": {},
   "outputs": [],
   "source": []
  }
 ],
 "metadata": {
  "kernelspec": {
   "display_name": "py311",
   "language": "python",
   "name": "python3"
  },
  "language_info": {
   "codemirror_mode": {
    "name": "ipython",
    "version": 3
   },
   "file_extension": ".py",
   "mimetype": "text/x-python",
   "name": "python",
   "nbconvert_exporter": "python",
   "pygments_lexer": "ipython3",
   "version": "3.11.10"
  }
 },
 "nbformat": 4,
 "nbformat_minor": 2
}
